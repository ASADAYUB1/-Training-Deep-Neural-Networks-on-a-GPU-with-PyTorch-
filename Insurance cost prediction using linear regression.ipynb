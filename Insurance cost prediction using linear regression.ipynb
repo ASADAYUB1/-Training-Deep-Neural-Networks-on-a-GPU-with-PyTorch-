{
 "cells": [
  {
   "cell_type": "markdown",
   "metadata": {
    "id": "KfbhCsZhJeLP"
   },
   "source": [
    "# Insurance Cost Prediction using Linear Regression"
   ]
  },
  {
   "cell_type": "markdown",
   "metadata": {
    "id": "DSjFgcsKJl-Y"
   },
   "source": []
  },
  {
   "cell_type": "code",
   "execution_count": 219,
   "metadata": {
    "executionInfo": {
     "elapsed": 822,
     "status": "ok",
     "timestamp": 1707308251556,
     "user": {
      "displayName": "ASAD AYUB",
      "userId": "01156840666497798230"
     },
     "user_tz": -300
    },
    "id": "04pC-oLbJVh-"
   },
   "outputs": [],
   "source": [
    "import torch\n",
    "import torchvision\n",
    "import torch.nn as nn\n",
    "import pandas as pd\n",
    "import matplotlib.pyplot as plt\n",
    "import torch.nn.functional as F\n",
    "from torchvision.datasets.utils import download_url\n",
    "from torch.utils.data import DataLoader, TensorDataset, random_split"
   ]
  },
  {
   "cell_type": "markdown",
   "metadata": {
    "id": "JOHA9mstJsmD"
   },
   "source": [
    "## Step 1: Download and explore the data\n",
    "\n",
    "Let us begin by downloading the data. We'll use the `download_url` function from PyTorch to get the data as a CSV (comma-separated values) file."
   ]
  },
  {
   "cell_type": "code",
   "execution_count": 295,
   "metadata": {
    "colab": {
     "base_uri": "https://localhost:8080/"
    },
    "executionInfo": {
     "elapsed": 522,
     "status": "ok",
     "timestamp": 1707309168784,
     "user": {
      "displayName": "ASAD AYUB",
      "userId": "01156840666497798230"
     },
     "user_tz": -300
    },
    "id": "FD8VYmUyJtXM",
    "outputId": "4b4c15ee-0599-43f0-d000-6270954a57f6"
   },
   "outputs": [
    {
     "name": "stdout",
     "output_type": "stream",
     "text": [
      "Using downloaded and verified file: ./insurance.csv\n"
     ]
    }
   ],
   "source": [
    "DATASET_URL = \"https://gist.github.com/BirajCoder/5f068dfe759c1ea6bdfce9535acdb72d/raw/c84d84e3c80f93be67f6c069cbdc0195ec36acbd/insurance.csv\"\n",
    "DATA_FILENAME = \"insurance.csv\"\n",
    "download_url(DATASET_URL, '.')"
   ]
  },
  {
   "cell_type": "markdown",
   "metadata": {
    "id": "xsBMayGbjmls"
   },
   "source": [
    "To load the dataset into memory, we'll use the `read_csv` function from the `pandas` library. The data will be loaded as a Pandas dataframe. See this short tutorial to learn more: https://data36.com/pandas-tutorial-1-basics-reading-data-files-dataframes-data-selection/"
   ]
  },
  {
   "cell_type": "code",
   "execution_count": 296,
   "metadata": {
    "colab": {
     "base_uri": "https://localhost:8080/",
     "height": 206
    },
    "executionInfo": {
     "elapsed": 46,
     "status": "ok",
     "timestamp": 1707309169214,
     "user": {
      "displayName": "ASAD AYUB",
      "userId": "01156840666497798230"
     },
     "user_tz": -300
    },
    "id": "_GE0VkGnjkbG",
    "outputId": "226a6d2f-7aed-40ea-c830-d35b35af7534"
   },
   "outputs": [
    {
     "data": {
      "text/html": [
       "\n",
       "  <div id=\"df-341af989-15a1-465e-8d2b-4964f4feda63\" class=\"colab-df-container\">\n",
       "    <div>\n",
       "<style scoped>\n",
       "    .dataframe tbody tr th:only-of-type {\n",
       "        vertical-align: middle;\n",
       "    }\n",
       "\n",
       "    .dataframe tbody tr th {\n",
       "        vertical-align: top;\n",
       "    }\n",
       "\n",
       "    .dataframe thead th {\n",
       "        text-align: right;\n",
       "    }\n",
       "</style>\n",
       "<table border=\"1\" class=\"dataframe\">\n",
       "  <thead>\n",
       "    <tr style=\"text-align: right;\">\n",
       "      <th></th>\n",
       "      <th>age</th>\n",
       "      <th>sex</th>\n",
       "      <th>bmi</th>\n",
       "      <th>children</th>\n",
       "      <th>smoker</th>\n",
       "      <th>region</th>\n",
       "      <th>charges</th>\n",
       "    </tr>\n",
       "  </thead>\n",
       "  <tbody>\n",
       "    <tr>\n",
       "      <th>0</th>\n",
       "      <td>19</td>\n",
       "      <td>female</td>\n",
       "      <td>27.900</td>\n",
       "      <td>0</td>\n",
       "      <td>yes</td>\n",
       "      <td>southwest</td>\n",
       "      <td>16884.92400</td>\n",
       "    </tr>\n",
       "    <tr>\n",
       "      <th>1</th>\n",
       "      <td>18</td>\n",
       "      <td>male</td>\n",
       "      <td>33.770</td>\n",
       "      <td>1</td>\n",
       "      <td>no</td>\n",
       "      <td>southeast</td>\n",
       "      <td>1725.55230</td>\n",
       "    </tr>\n",
       "    <tr>\n",
       "      <th>2</th>\n",
       "      <td>28</td>\n",
       "      <td>male</td>\n",
       "      <td>33.000</td>\n",
       "      <td>3</td>\n",
       "      <td>no</td>\n",
       "      <td>southeast</td>\n",
       "      <td>4449.46200</td>\n",
       "    </tr>\n",
       "    <tr>\n",
       "      <th>3</th>\n",
       "      <td>33</td>\n",
       "      <td>male</td>\n",
       "      <td>22.705</td>\n",
       "      <td>0</td>\n",
       "      <td>no</td>\n",
       "      <td>northwest</td>\n",
       "      <td>21984.47061</td>\n",
       "    </tr>\n",
       "    <tr>\n",
       "      <th>4</th>\n",
       "      <td>32</td>\n",
       "      <td>male</td>\n",
       "      <td>28.880</td>\n",
       "      <td>0</td>\n",
       "      <td>no</td>\n",
       "      <td>northwest</td>\n",
       "      <td>3866.85520</td>\n",
       "    </tr>\n",
       "  </tbody>\n",
       "</table>\n",
       "</div>\n",
       "    <div class=\"colab-df-buttons\">\n",
       "\n",
       "  <div class=\"colab-df-container\">\n",
       "    <button class=\"colab-df-convert\" onclick=\"convertToInteractive('df-341af989-15a1-465e-8d2b-4964f4feda63')\"\n",
       "            title=\"Convert this dataframe to an interactive table.\"\n",
       "            style=\"display:none;\">\n",
       "\n",
       "  <svg xmlns=\"http://www.w3.org/2000/svg\" height=\"24px\" viewBox=\"0 -960 960 960\">\n",
       "    <path d=\"M120-120v-720h720v720H120Zm60-500h600v-160H180v160Zm220 220h160v-160H400v160Zm0 220h160v-160H400v160ZM180-400h160v-160H180v160Zm440 0h160v-160H620v160ZM180-180h160v-160H180v160Zm440 0h160v-160H620v160Z\"/>\n",
       "  </svg>\n",
       "    </button>\n",
       "\n",
       "  <style>\n",
       "    .colab-df-container {\n",
       "      display:flex;\n",
       "      gap: 12px;\n",
       "    }\n",
       "\n",
       "    .colab-df-convert {\n",
       "      background-color: #E8F0FE;\n",
       "      border: none;\n",
       "      border-radius: 50%;\n",
       "      cursor: pointer;\n",
       "      display: none;\n",
       "      fill: #1967D2;\n",
       "      height: 32px;\n",
       "      padding: 0 0 0 0;\n",
       "      width: 32px;\n",
       "    }\n",
       "\n",
       "    .colab-df-convert:hover {\n",
       "      background-color: #E2EBFA;\n",
       "      box-shadow: 0px 1px 2px rgba(60, 64, 67, 0.3), 0px 1px 3px 1px rgba(60, 64, 67, 0.15);\n",
       "      fill: #174EA6;\n",
       "    }\n",
       "\n",
       "    .colab-df-buttons div {\n",
       "      margin-bottom: 4px;\n",
       "    }\n",
       "\n",
       "    [theme=dark] .colab-df-convert {\n",
       "      background-color: #3B4455;\n",
       "      fill: #D2E3FC;\n",
       "    }\n",
       "\n",
       "    [theme=dark] .colab-df-convert:hover {\n",
       "      background-color: #434B5C;\n",
       "      box-shadow: 0px 1px 3px 1px rgba(0, 0, 0, 0.15);\n",
       "      filter: drop-shadow(0px 1px 2px rgba(0, 0, 0, 0.3));\n",
       "      fill: #FFFFFF;\n",
       "    }\n",
       "  </style>\n",
       "\n",
       "    <script>\n",
       "      const buttonEl =\n",
       "        document.querySelector('#df-341af989-15a1-465e-8d2b-4964f4feda63 button.colab-df-convert');\n",
       "      buttonEl.style.display =\n",
       "        google.colab.kernel.accessAllowed ? 'block' : 'none';\n",
       "\n",
       "      async function convertToInteractive(key) {\n",
       "        const element = document.querySelector('#df-341af989-15a1-465e-8d2b-4964f4feda63');\n",
       "        const dataTable =\n",
       "          await google.colab.kernel.invokeFunction('convertToInteractive',\n",
       "                                                    [key], {});\n",
       "        if (!dataTable) return;\n",
       "\n",
       "        const docLinkHtml = 'Like what you see? Visit the ' +\n",
       "          '<a target=\"_blank\" href=https://colab.research.google.com/notebooks/data_table.ipynb>data table notebook</a>'\n",
       "          + ' to learn more about interactive tables.';\n",
       "        element.innerHTML = '';\n",
       "        dataTable['output_type'] = 'display_data';\n",
       "        await google.colab.output.renderOutput(dataTable, element);\n",
       "        const docLink = document.createElement('div');\n",
       "        docLink.innerHTML = docLinkHtml;\n",
       "        element.appendChild(docLink);\n",
       "      }\n",
       "    </script>\n",
       "  </div>\n",
       "\n",
       "\n",
       "<div id=\"df-7b75cd18-1519-4e20-850d-48e545722db2\">\n",
       "  <button class=\"colab-df-quickchart\" onclick=\"quickchart('df-7b75cd18-1519-4e20-850d-48e545722db2')\"\n",
       "            title=\"Suggest charts\"\n",
       "            style=\"display:none;\">\n",
       "\n",
       "<svg xmlns=\"http://www.w3.org/2000/svg\" height=\"24px\"viewBox=\"0 0 24 24\"\n",
       "     width=\"24px\">\n",
       "    <g>\n",
       "        <path d=\"M19 3H5c-1.1 0-2 .9-2 2v14c0 1.1.9 2 2 2h14c1.1 0 2-.9 2-2V5c0-1.1-.9-2-2-2zM9 17H7v-7h2v7zm4 0h-2V7h2v10zm4 0h-2v-4h2v4z\"/>\n",
       "    </g>\n",
       "</svg>\n",
       "  </button>\n",
       "\n",
       "<style>\n",
       "  .colab-df-quickchart {\n",
       "      --bg-color: #E8F0FE;\n",
       "      --fill-color: #1967D2;\n",
       "      --hover-bg-color: #E2EBFA;\n",
       "      --hover-fill-color: #174EA6;\n",
       "      --disabled-fill-color: #AAA;\n",
       "      --disabled-bg-color: #DDD;\n",
       "  }\n",
       "\n",
       "  [theme=dark] .colab-df-quickchart {\n",
       "      --bg-color: #3B4455;\n",
       "      --fill-color: #D2E3FC;\n",
       "      --hover-bg-color: #434B5C;\n",
       "      --hover-fill-color: #FFFFFF;\n",
       "      --disabled-bg-color: #3B4455;\n",
       "      --disabled-fill-color: #666;\n",
       "  }\n",
       "\n",
       "  .colab-df-quickchart {\n",
       "    background-color: var(--bg-color);\n",
       "    border: none;\n",
       "    border-radius: 50%;\n",
       "    cursor: pointer;\n",
       "    display: none;\n",
       "    fill: var(--fill-color);\n",
       "    height: 32px;\n",
       "    padding: 0;\n",
       "    width: 32px;\n",
       "  }\n",
       "\n",
       "  .colab-df-quickchart:hover {\n",
       "    background-color: var(--hover-bg-color);\n",
       "    box-shadow: 0 1px 2px rgba(60, 64, 67, 0.3), 0 1px 3px 1px rgba(60, 64, 67, 0.15);\n",
       "    fill: var(--button-hover-fill-color);\n",
       "  }\n",
       "\n",
       "  .colab-df-quickchart-complete:disabled,\n",
       "  .colab-df-quickchart-complete:disabled:hover {\n",
       "    background-color: var(--disabled-bg-color);\n",
       "    fill: var(--disabled-fill-color);\n",
       "    box-shadow: none;\n",
       "  }\n",
       "\n",
       "  .colab-df-spinner {\n",
       "    border: 2px solid var(--fill-color);\n",
       "    border-color: transparent;\n",
       "    border-bottom-color: var(--fill-color);\n",
       "    animation:\n",
       "      spin 1s steps(1) infinite;\n",
       "  }\n",
       "\n",
       "  @keyframes spin {\n",
       "    0% {\n",
       "      border-color: transparent;\n",
       "      border-bottom-color: var(--fill-color);\n",
       "      border-left-color: var(--fill-color);\n",
       "    }\n",
       "    20% {\n",
       "      border-color: transparent;\n",
       "      border-left-color: var(--fill-color);\n",
       "      border-top-color: var(--fill-color);\n",
       "    }\n",
       "    30% {\n",
       "      border-color: transparent;\n",
       "      border-left-color: var(--fill-color);\n",
       "      border-top-color: var(--fill-color);\n",
       "      border-right-color: var(--fill-color);\n",
       "    }\n",
       "    40% {\n",
       "      border-color: transparent;\n",
       "      border-right-color: var(--fill-color);\n",
       "      border-top-color: var(--fill-color);\n",
       "    }\n",
       "    60% {\n",
       "      border-color: transparent;\n",
       "      border-right-color: var(--fill-color);\n",
       "    }\n",
       "    80% {\n",
       "      border-color: transparent;\n",
       "      border-right-color: var(--fill-color);\n",
       "      border-bottom-color: var(--fill-color);\n",
       "    }\n",
       "    90% {\n",
       "      border-color: transparent;\n",
       "      border-bottom-color: var(--fill-color);\n",
       "    }\n",
       "  }\n",
       "</style>\n",
       "\n",
       "  <script>\n",
       "    async function quickchart(key) {\n",
       "      const quickchartButtonEl =\n",
       "        document.querySelector('#' + key + ' button');\n",
       "      quickchartButtonEl.disabled = true;  // To prevent multiple clicks.\n",
       "      quickchartButtonEl.classList.add('colab-df-spinner');\n",
       "      try {\n",
       "        const charts = await google.colab.kernel.invokeFunction(\n",
       "            'suggestCharts', [key], {});\n",
       "      } catch (error) {\n",
       "        console.error('Error during call to suggestCharts:', error);\n",
       "      }\n",
       "      quickchartButtonEl.classList.remove('colab-df-spinner');\n",
       "      quickchartButtonEl.classList.add('colab-df-quickchart-complete');\n",
       "    }\n",
       "    (() => {\n",
       "      let quickchartButtonEl =\n",
       "        document.querySelector('#df-7b75cd18-1519-4e20-850d-48e545722db2 button');\n",
       "      quickchartButtonEl.style.display =\n",
       "        google.colab.kernel.accessAllowed ? 'block' : 'none';\n",
       "    })();\n",
       "  </script>\n",
       "</div>\n",
       "\n",
       "    </div>\n",
       "  </div>\n"
      ],
      "text/plain": [
       "   age     sex     bmi  children smoker     region      charges\n",
       "0   19  female  27.900         0    yes  southwest  16884.92400\n",
       "1   18    male  33.770         1     no  southeast   1725.55230\n",
       "2   28    male  33.000         3     no  southeast   4449.46200\n",
       "3   33    male  22.705         0     no  northwest  21984.47061\n",
       "4   32    male  28.880         0     no  northwest   3866.85520"
      ]
     },
     "execution_count": 296,
     "metadata": {},
     "output_type": "execute_result"
    }
   ],
   "source": [
    "dataframe_raw = pd.read_csv(DATA_FILENAME)\n",
    "dataframe_raw.head()"
   ]
  },
  {
   "cell_type": "markdown",
   "metadata": {
    "id": "PJvsnT9ulM1y"
   },
   "source": [
    "### some basic questions about the dataset.\n",
    "\n",
    "\n",
    "**Number of rows the dataset have**"
   ]
  },
  {
   "cell_type": "code",
   "execution_count": 300,
   "metadata": {
    "colab": {
     "base_uri": "https://localhost:8080/"
    },
    "executionInfo": {
     "elapsed": 40,
     "status": "ok",
     "timestamp": 1707309169215,
     "user": {
      "displayName": "ASAD AYUB",
      "userId": "01156840666497798230"
     },
     "user_tz": -300
    },
    "id": "sfkff5YLK_rP",
    "outputId": "5a20dbfe-f3d2-4673-91d6-b95de78613ec"
   },
   "outputs": [
    {
     "data": {
      "text/plain": [
       "(1271, 7)"
      ]
     },
     "execution_count": 300,
     "metadata": {},
     "output_type": "execute_result"
    }
   ],
   "source": [
    "dataframe.shape"
   ]
  },
  {
   "cell_type": "code",
   "execution_count": 301,
   "metadata": {
    "colab": {
     "base_uri": "https://localhost:8080/"
    },
    "executionInfo": {
     "elapsed": 39,
     "status": "ok",
     "timestamp": 1707309169215,
     "user": {
      "displayName": "ASAD AYUB",
      "userId": "01156840666497798230"
     },
     "user_tz": -300
    },
    "id": "mhGK915IkGAJ",
    "outputId": "d23ca18d-498a-4fd6-ab48-a04a851c6b24"
   },
   "outputs": [
    {
     "name": "stdout",
     "output_type": "stream",
     "text": [
      "1271\n"
     ]
    }
   ],
   "source": [
    "num_rows = dataframe.shape[0]\n",
    "print(num_rows)"
   ]
  },
  {
   "cell_type": "markdown",
   "metadata": {
    "id": "9aMkHOCEll3A"
   },
   "source": [
    "**Number of columns the dataset have**"
   ]
  },
  {
   "cell_type": "code",
   "execution_count": 302,
   "metadata": {
    "colab": {
     "base_uri": "https://localhost:8080/"
    },
    "executionInfo": {
     "elapsed": 38,
     "status": "ok",
     "timestamp": 1707309169215,
     "user": {
      "displayName": "ASAD AYUB",
      "userId": "01156840666497798230"
     },
     "user_tz": -300
    },
    "id": "-Qbk7KtqkGDA",
    "outputId": "e5d981db-641a-4574-f912-35d2d5d686a7"
   },
   "outputs": [
    {
     "name": "stdout",
     "output_type": "stream",
     "text": [
      "7\n"
     ]
    }
   ],
   "source": [
    "num_cols = dataframe.shape[1]\n",
    "print(num_cols)"
   ]
  },
  {
   "cell_type": "markdown",
   "metadata": {
    "id": "MikYDCuyl1o1"
   },
   "source": [
    "**Input column from the dataset**"
   ]
  },
  {
   "cell_type": "code",
   "execution_count": 303,
   "metadata": {
    "colab": {
     "base_uri": "https://localhost:8080/"
    },
    "executionInfo": {
     "elapsed": 36,
     "status": "ok",
     "timestamp": 1707309169215,
     "user": {
      "displayName": "ASAD AYUB",
      "userId": "01156840666497798230"
     },
     "user_tz": -300
    },
    "id": "jPQSUDnALphB",
    "outputId": "8048ec25-9bee-44f4-9b24-bfd2b3b4d739"
   },
   "outputs": [
    {
     "data": {
      "text/plain": [
       "Index(['age', 'sex', 'bmi', 'children', 'smoker', 'region', 'charges'], dtype='object')"
      ]
     },
     "execution_count": 303,
     "metadata": {},
     "output_type": "execute_result"
    }
   ],
   "source": [
    "dataframe.columns"
   ]
  },
  {
   "cell_type": "code",
   "execution_count": 304,
   "metadata": {
    "executionInfo": {
     "elapsed": 36,
     "status": "ok",
     "timestamp": 1707309169216,
     "user": {
      "displayName": "ASAD AYUB",
      "userId": "01156840666497798230"
     },
     "user_tz": -300
    },
    "id": "bikzZWo_kGF6"
   },
   "outputs": [],
   "source": [
    "input_cols = ['age', 'sex', 'bmi', 'children', 'smoker']"
   ]
  },
  {
   "cell_type": "markdown",
   "metadata": {
    "id": "RYhqp5CEmGFq"
   },
   "source": [
    "**Non-numeric or categoriacolumns are in dataset**\n",
    "\n"
   ]
  },
  {
   "cell_type": "code",
   "execution_count": 305,
   "metadata": {
    "executionInfo": {
     "elapsed": 35,
     "status": "ok",
     "timestamp": 1707309169216,
     "user": {
      "displayName": "ASAD AYUB",
      "userId": "01156840666497798230"
     },
     "user_tz": -300
    },
    "id": "xDGX4jwJkGIw"
   },
   "outputs": [],
   "source": [
    "categorical_cols = ['sex','smoker']"
   ]
  },
  {
   "cell_type": "markdown",
   "metadata": {
    "id": "rhvkqCVemfgk"
   },
   "source": [
    "**Output or Target variable(s) column**"
   ]
  },
  {
   "cell_type": "code",
   "execution_count": 306,
   "metadata": {
    "executionInfo": {
     "elapsed": 34,
     "status": "ok",
     "timestamp": 1707309169216,
     "user": {
      "displayName": "ASAD AYUB",
      "userId": "01156840666497798230"
     },
     "user_tz": -300
    },
    "id": "rlJ-AygHkGLq"
   },
   "outputs": [],
   "source": [
    "output_cols = ['charges']"
   ]
  },
  {
   "cell_type": "markdown",
   "metadata": {
    "id": "j83YH40sqorN"
   },
   "source": [
    "**Minimum, maximum and average value of the charges column. Distribution of values in a graph.**"
   ]
  },
  {
   "cell_type": "code",
   "execution_count": 307,
   "metadata": {
    "colab": {
     "base_uri": "https://localhost:8080/"
    },
    "executionInfo": {
     "elapsed": 34,
     "status": "ok",
     "timestamp": 1707309169216,
     "user": {
      "displayName": "ASAD AYUB",
      "userId": "01156840666497798230"
     },
     "user_tz": -300
    },
    "id": "2gVAkMAJhJ2w",
    "outputId": "6fab17be-bd45-4e82-e4d6-29502b0ecd4a"
   },
   "outputs": [
    {
     "name": "stdout",
     "output_type": "stream",
     "text": [
      "Minimum 1088.217683\n",
      "Maximum 61857.3151697\n",
      "Average 12914.76944657044\n"
     ]
    }
   ],
   "source": [
    "print('Minimum',min(dataframe['charges']))\n",
    "print('Maximum',max(dataframe['charges']))\n",
    "print('Average',(dataframe['charges'].mean()))"
   ]
  },
  {
   "cell_type": "code",
   "execution_count": 308,
   "metadata": {
    "colab": {
     "base_uri": "https://localhost:8080/",
     "height": 673
    },
    "executionInfo": {
     "elapsed": 590,
     "status": "ok",
     "timestamp": 1707309169774,
     "user": {
      "displayName": "ASAD AYUB",
      "userId": "01156840666497798230"
     },
     "user_tz": -300
    },
    "id": "1RZvrWyAqku5",
    "outputId": "d4b874cd-900e-4a34-f7b9-718dda92f56f"
   },
   "outputs": [
    {
     "name": "stderr",
     "output_type": "stream",
     "text": [
      "<ipython-input-308-14e78b178eef>:4: UserWarning: \n",
      "\n",
      "`distplot` is a deprecated function and will be removed in seaborn v0.14.0.\n",
      "\n",
      "Please adapt your code to use either `displot` (a figure-level function with\n",
      "similar flexibility) or `histplot` (an axes-level function for histograms).\n",
      "\n",
      "For a guide to updating your code to use the new functions, please see\n",
      "https://gist.github.com/mwaskom/de44147ed2974457ad6372750bbe5751\n",
      "\n",
      "  sns.distplot(dataframe.charges);\n"
     ]
    },
    {
     "data": {
      "image/png": "[encoded data removed]",
      "text/plain": [
       "<Figure size 640x480 with 1 Axes>"
      ]
     },
     "metadata": {},
     "output_type": "display_data"
    }
   ],
   "source": [
    "import seaborn as sns\n",
    "plt.title(\"Distribution of Charges\")\n",
    "\n",
    "sns.distplot(dataframe.charges);"
   ]
  },
  {
   "cell_type": "markdown",
   "metadata": {
    "id": "BKpCbS9TJwYo"
   },
   "source": [
    "## Step 2: Prepare the dataset for training\n",
    "\n",
    "We need to convert the data from the Pandas dataframe into a PyTorch tensors for training. To do this, the first step is to convert it numpy arrays. If you've filled out `input_cols`, `categorial_cols` and `output_cols` correctly, this following function will perform the conversion to numpy arrays."
   ]
  },
  {
   "cell_type": "code",
   "execution_count": 309,
   "metadata": {
    "executionInfo": {
     "elapsed": 6,
     "status": "ok",
     "timestamp": 1707309172048,
     "user": {
      "displayName": "ASAD AYUB",
      "userId": "01156840666497798230"
     },
     "user_tz": -300
    },
    "id": "emJIjUM1Jw2D"
   },
   "outputs": [],
   "source": [
    "def dataframe_to_arrays(dataframe):\n",
    "  # Make a copy of the original dataframe\n",
    "  dataframe1 = dataframe.copy(deep= True)\n",
    "  # Convert non-numeric categorical columns to numbers\n",
    "  for col in categorical_cols:\n",
    "    dataframe1[col] = dataframe1[col].astype('category').cat.codes\n",
    "  # Extract inputs and outputs as numpy arrays\n",
    "  inputs_array = dataframe1[input_cols].to_numpy()\n",
    "  targets_array = dataframe1[output_cols].to_numpy()\n",
    "  return inputs_array, targets_array\n",
    "\n",
    "\n"
   ]
  },
  {
   "cell_type": "code",
   "execution_count": 310,
   "metadata": {
    "colab": {
     "base_uri": "https://localhost:8080/",
     "height": 0
    },
    "executionInfo": {
     "elapsed": 38,
     "status": "ok",
     "timestamp": 1707309172704,
     "user": {
      "displayName": "ASAD AYUB",
      "userId": "01156840666497798230"
     },
     "user_tz": -300
    },
    "id": "Bwi6KJIbQTJp",
    "outputId": "48dc52f5-1dc1-4035-d1b1-e8681fd3a3f4"
   },
   "outputs": [
    {
     "data": {
      "text/html": [
       "\n",
       "  <div id=\"df-ce21fa92-85c4-4ef0-aad5-3485ba3895e5\" class=\"colab-df-container\">\n",
       "    <div>\n",
       "<style scoped>\n",
       "    .dataframe tbody tr th:only-of-type {\n",
       "        vertical-align: middle;\n",
       "    }\n",
       "\n",
       "    .dataframe tbody tr th {\n",
       "        vertical-align: top;\n",
       "    }\n",
       "\n",
       "    .dataframe thead th {\n",
       "        text-align: right;\n",
       "    }\n",
       "</style>\n",
       "<table border=\"1\" class=\"dataframe\">\n",
       "  <thead>\n",
       "    <tr style=\"text-align: right;\">\n",
       "      <th></th>\n",
       "      <th>age</th>\n",
       "      <th>sex</th>\n",
       "      <th>bmi</th>\n",
       "      <th>children</th>\n",
       "      <th>smoker</th>\n",
       "      <th>region</th>\n",
       "      <th>charges</th>\n",
       "    </tr>\n",
       "  </thead>\n",
       "  <tbody>\n",
       "    <tr>\n",
       "      <th>27</th>\n",
       "      <td>55</td>\n",
       "      <td>female</td>\n",
       "      <td>37.69125</td>\n",
       "      <td>2</td>\n",
       "      <td>no</td>\n",
       "      <td>northwest</td>\n",
       "      <td>11900.573282</td>\n",
       "    </tr>\n",
       "    <tr>\n",
       "      <th>997</th>\n",
       "      <td>63</td>\n",
       "      <td>female</td>\n",
       "      <td>42.37750</td>\n",
       "      <td>0</td>\n",
       "      <td>no</td>\n",
       "      <td>southeast</td>\n",
       "      <td>13471.329445</td>\n",
       "    </tr>\n",
       "    <tr>\n",
       "      <th>162</th>\n",
       "      <td>54</td>\n",
       "      <td>male</td>\n",
       "      <td>45.54000</td>\n",
       "      <td>1</td>\n",
       "      <td>no</td>\n",
       "      <td>southwest</td>\n",
       "      <td>10137.035440</td>\n",
       "    </tr>\n",
       "    <tr>\n",
       "      <th>824</th>\n",
       "      <td>60</td>\n",
       "      <td>male</td>\n",
       "      <td>27.96800</td>\n",
       "      <td>0</td>\n",
       "      <td>no</td>\n",
       "      <td>northwest</td>\n",
       "      <td>12147.896656</td>\n",
       "    </tr>\n",
       "    <tr>\n",
       "      <th>392</th>\n",
       "      <td>48</td>\n",
       "      <td>male</td>\n",
       "      <td>36.16175</td>\n",
       "      <td>1</td>\n",
       "      <td>no</td>\n",
       "      <td>northeast</td>\n",
       "      <td>8695.138733</td>\n",
       "    </tr>\n",
       "    <tr>\n",
       "      <th>...</th>\n",
       "      <td>...</td>\n",
       "      <td>...</td>\n",
       "      <td>...</td>\n",
       "      <td>...</td>\n",
       "      <td>...</td>\n",
       "      <td>...</td>\n",
       "      <td>...</td>\n",
       "    </tr>\n",
       "    <tr>\n",
       "      <th>381</th>\n",
       "      <td>55</td>\n",
       "      <td>male</td>\n",
       "      <td>35.28775</td>\n",
       "      <td>0</td>\n",
       "      <td>yes</td>\n",
       "      <td>northeast</td>\n",
       "      <td>41034.581386</td>\n",
       "    </tr>\n",
       "    <tr>\n",
       "      <th>538</th>\n",
       "      <td>46</td>\n",
       "      <td>female</td>\n",
       "      <td>32.25750</td>\n",
       "      <td>1</td>\n",
       "      <td>no</td>\n",
       "      <td>southeast</td>\n",
       "      <td>7986.104575</td>\n",
       "    </tr>\n",
       "    <tr>\n",
       "      <th>73</th>\n",
       "      <td>58</td>\n",
       "      <td>male</td>\n",
       "      <td>36.81150</td>\n",
       "      <td>1</td>\n",
       "      <td>no</td>\n",
       "      <td>southeast</td>\n",
       "      <td>11588.227123</td>\n",
       "    </tr>\n",
       "    <tr>\n",
       "      <th>521</th>\n",
       "      <td>32</td>\n",
       "      <td>female</td>\n",
       "      <td>50.85300</td>\n",
       "      <td>0</td>\n",
       "      <td>no</td>\n",
       "      <td>southeast</td>\n",
       "      <td>3874.352466</td>\n",
       "    </tr>\n",
       "    <tr>\n",
       "      <th>1205</th>\n",
       "      <td>35</td>\n",
       "      <td>male</td>\n",
       "      <td>20.53900</td>\n",
       "      <td>1</td>\n",
       "      <td>no</td>\n",
       "      <td>northwest</td>\n",
       "      <td>4963.005388</td>\n",
       "    </tr>\n",
       "  </tbody>\n",
       "</table>\n",
       "<p>1271 rows × 7 columns</p>\n",
       "</div>\n",
       "    <div class=\"colab-df-buttons\">\n",
       "\n",
       "  <div class=\"colab-df-container\">\n",
       "    <button class=\"colab-df-convert\" onclick=\"convertToInteractive('df-ce21fa92-85c4-4ef0-aad5-3485ba3895e5')\"\n",
       "            title=\"Convert this dataframe to an interactive table.\"\n",
       "            style=\"display:none;\">\n",
       "\n",
       "  <svg xmlns=\"http://www.w3.org/2000/svg\" height=\"24px\" viewBox=\"0 -960 960 960\">\n",
       "    <path d=\"M120-120v-720h720v720H120Zm60-500h600v-160H180v160Zm220 220h160v-160H400v160Zm0 220h160v-160H400v160ZM180-400h160v-160H180v160Zm440 0h160v-160H620v160ZM180-180h160v-160H180v160Zm440 0h160v-160H620v160Z\"/>\n",
       "  </svg>\n",
       "    </button>\n",
       "\n",
       "  <style>\n",
       "    .colab-df-container {\n",
       "      display:flex;\n",
       "      gap: 12px;\n",
       "    }\n",
       "\n",
       "    .colab-df-convert {\n",
       "      background-color: #E8F0FE;\n",
       "      border: none;\n",
       "      border-radius: 50%;\n",
       "      cursor: pointer;\n",
       "      display: none;\n",
       "      fill: #1967D2;\n",
       "      height: 32px;\n",
       "      padding: 0 0 0 0;\n",
       "      width: 32px;\n",
       "    }\n",
       "\n",
       "    .colab-df-convert:hover {\n",
       "      background-color: #E2EBFA;\n",
       "      box-shadow: 0px 1px 2px rgba(60, 64, 67, 0.3), 0px 1px 3px 1px rgba(60, 64, 67, 0.15);\n",
       "      fill: #174EA6;\n",
       "    }\n",
       "\n",
       "    .colab-df-buttons div {\n",
       "      margin-bottom: 4px;\n",
       "    }\n",
       "\n",
       "    [theme=dark] .colab-df-convert {\n",
       "      background-color: #3B4455;\n",
       "      fill: #D2E3FC;\n",
       "    }\n",
       "\n",
       "    [theme=dark] .colab-df-convert:hover {\n",
       "      background-color: #434B5C;\n",
       "      box-shadow: 0px 1px 3px 1px rgba(0, 0, 0, 0.15);\n",
       "      filter: drop-shadow(0px 1px 2px rgba(0, 0, 0, 0.3));\n",
       "      fill: #FFFFFF;\n",
       "    }\n",
       "  </style>\n",
       "\n",
       "    <script>\n",
       "      const buttonEl =\n",
       "        document.querySelector('#df-ce21fa92-85c4-4ef0-aad5-3485ba3895e5 button.colab-df-convert');\n",
       "      buttonEl.style.display =\n",
       "        google.colab.kernel.accessAllowed ? 'block' : 'none';\n",
       "\n",
       "      async function convertToInteractive(key) {\n",
       "        const element = document.querySelector('#df-ce21fa92-85c4-4ef0-aad5-3485ba3895e5');\n",
       "        const dataTable =\n",
       "          await google.colab.kernel.invokeFunction('convertToInteractive',\n",
       "                                                    [key], {});\n",
       "        if (!dataTable) return;\n",
       "\n",
       "        const docLinkHtml = 'Like what you see? Visit the ' +\n",
       "          '<a target=\"_blank\" href=https://colab.research.google.com/notebooks/data_table.ipynb>data table notebook</a>'\n",
       "          + ' to learn more about interactive tables.';\n",
       "        element.innerHTML = '';\n",
       "        dataTable['output_type'] = 'display_data';\n",
       "        await google.colab.output.renderOutput(dataTable, element);\n",
       "        const docLink = document.createElement('div');\n",
       "        docLink.innerHTML = docLinkHtml;\n",
       "        element.appendChild(docLink);\n",
       "      }\n",
       "    </script>\n",
       "  </div>\n",
       "\n",
       "\n",
       "<div id=\"df-c3a877d2-9e1e-4e8a-b95c-96899feccce0\">\n",
       "  <button class=\"colab-df-quickchart\" onclick=\"quickchart('df-c3a877d2-9e1e-4e8a-b95c-96899feccce0')\"\n",
       "            title=\"Suggest charts\"\n",
       "            style=\"display:none;\">\n",
       "\n",
       "<svg xmlns=\"http://www.w3.org/2000/svg\" height=\"24px\"viewBox=\"0 0 24 24\"\n",
       "     width=\"24px\">\n",
       "    <g>\n",
       "        <path d=\"M19 3H5c-1.1 0-2 .9-2 2v14c0 1.1.9 2 2 2h14c1.1 0 2-.9 2-2V5c0-1.1-.9-2-2-2zM9 17H7v-7h2v7zm4 0h-2V7h2v10zm4 0h-2v-4h2v4z\"/>\n",
       "    </g>\n",
       "</svg>\n",
       "  </button>\n",
       "\n",
       "<style>\n",
       "  .colab-df-quickchart {\n",
       "      --bg-color: #E8F0FE;\n",
       "      --fill-color: #1967D2;\n",
       "      --hover-bg-color: #E2EBFA;\n",
       "      --hover-fill-color: #174EA6;\n",
       "      --disabled-fill-color: #AAA;\n",
       "      --disabled-bg-color: #DDD;\n",
       "  }\n",
       "\n",
       "  [theme=dark] .colab-df-quickchart {\n",
       "      --bg-color: #3B4455;\n",
       "      --fill-color: #D2E3FC;\n",
       "      --hover-bg-color: #434B5C;\n",
       "      --hover-fill-color: #FFFFFF;\n",
       "      --disabled-bg-color: #3B4455;\n",
       "      --disabled-fill-color: #666;\n",
       "  }\n",
       "\n",
       "  .colab-df-quickchart {\n",
       "    background-color: var(--bg-color);\n",
       "    border: none;\n",
       "    border-radius: 50%;\n",
       "    cursor: pointer;\n",
       "    display: none;\n",
       "    fill: var(--fill-color);\n",
       "    height: 32px;\n",
       "    padding: 0;\n",
       "    width: 32px;\n",
       "  }\n",
       "\n",
       "  .colab-df-quickchart:hover {\n",
       "    background-color: var(--hover-bg-color);\n",
       "    box-shadow: 0 1px 2px rgba(60, 64, 67, 0.3), 0 1px 3px 1px rgba(60, 64, 67, 0.15);\n",
       "    fill: var(--button-hover-fill-color);\n",
       "  }\n",
       "\n",
       "  .colab-df-quickchart-complete:disabled,\n",
       "  .colab-df-quickchart-complete:disabled:hover {\n",
       "    background-color: var(--disabled-bg-color);\n",
       "    fill: var(--disabled-fill-color);\n",
       "    box-shadow: none;\n",
       "  }\n",
       "\n",
       "  .colab-df-spinner {\n",
       "    border: 2px solid var(--fill-color);\n",
       "    border-color: transparent;\n",
       "    border-bottom-color: var(--fill-color);\n",
       "    animation:\n",
       "      spin 1s steps(1) infinite;\n",
       "  }\n",
       "\n",
       "  @keyframes spin {\n",
       "    0% {\n",
       "      border-color: transparent;\n",
       "      border-bottom-color: var(--fill-color);\n",
       "      border-left-color: var(--fill-color);\n",
       "    }\n",
       "    20% {\n",
       "      border-color: transparent;\n",
       "      border-left-color: var(--fill-color);\n",
       "      border-top-color: var(--fill-color);\n",
       "    }\n",
       "    30% {\n",
       "      border-color: transparent;\n",
       "      border-left-color: var(--fill-color);\n",
       "      border-top-color: var(--fill-color);\n",
       "      border-right-color: var(--fill-color);\n",
       "    }\n",
       "    40% {\n",
       "      border-color: transparent;\n",
       "      border-right-color: var(--fill-color);\n",
       "      border-top-color: var(--fill-color);\n",
       "    }\n",
       "    60% {\n",
       "      border-color: transparent;\n",
       "      border-right-color: var(--fill-color);\n",
       "    }\n",
       "    80% {\n",
       "      border-color: transparent;\n",
       "      border-right-color: var(--fill-color);\n",
       "      border-bottom-color: var(--fill-color);\n",
       "    }\n",
       "    90% {\n",
       "      border-color: transparent;\n",
       "      border-bottom-color: var(--fill-color);\n",
       "    }\n",
       "  }\n",
       "</style>\n",
       "\n",
       "  <script>\n",
       "    async function quickchart(key) {\n",
       "      const quickchartButtonEl =\n",
       "        document.querySelector('#' + key + ' button');\n",
       "      quickchartButtonEl.disabled = true;  // To prevent multiple clicks.\n",
       "      quickchartButtonEl.classList.add('colab-df-spinner');\n",
       "      try {\n",
       "        const charts = await google.colab.kernel.invokeFunction(\n",
       "            'suggestCharts', [key], {});\n",
       "      } catch (error) {\n",
       "        console.error('Error during call to suggestCharts:', error);\n",
       "      }\n",
       "      quickchartButtonEl.classList.remove('colab-df-spinner');\n",
       "      quickchartButtonEl.classList.add('colab-df-quickchart-complete');\n",
       "    }\n",
       "    (() => {\n",
       "      let quickchartButtonEl =\n",
       "        document.querySelector('#df-c3a877d2-9e1e-4e8a-b95c-96899feccce0 button');\n",
       "      quickchartButtonEl.style.display =\n",
       "        google.colab.kernel.accessAllowed ? 'block' : 'none';\n",
       "    })();\n",
       "  </script>\n",
       "</div>\n",
       "\n",
       "  <div id=\"id_f18efb43-3aeb-4126-9f25-16e426a931c6\">\n",
       "    <style>\n",
       "      .colab-df-generate {\n",
       "        background-color: #E8F0FE;\n",
       "        border: none;\n",
       "        border-radius: 50%;\n",
       "        cursor: pointer;\n",
       "        display: none;\n",
       "        fill: #1967D2;\n",
       "        height: 32px;\n",
       "        padding: 0 0 0 0;\n",
       "        width: 32px;\n",
       "      }\n",
       "\n",
       "      .colab-df-generate:hover {\n",
       "        background-color: #E2EBFA;\n",
       "        box-shadow: 0px 1px 2px rgba(60, 64, 67, 0.3), 0px 1px 3px 1px rgba(60, 64, 67, 0.15);\n",
       "        fill: #174EA6;\n",
       "      }\n",
       "\n",
       "      [theme=dark] .colab-df-generate {\n",
       "        background-color: #3B4455;\n",
       "        fill: #D2E3FC;\n",
       "      }\n",
       "\n",
       "      [theme=dark] .colab-df-generate:hover {\n",
       "        background-color: #434B5C;\n",
       "        box-shadow: 0px 1px 3px 1px rgba(0, 0, 0, 0.15);\n",
       "        filter: drop-shadow(0px 1px 2px rgba(0, 0, 0, 0.3));\n",
       "        fill: #FFFFFF;\n",
       "      }\n",
       "    </style>\n",
       "    <button class=\"colab-df-generate\" onclick=\"generateWithVariable('dataframe')\"\n",
       "            title=\"Generate code using this dataframe.\"\n",
       "            style=\"display:none;\">\n",
       "\n",
       "  <svg xmlns=\"http://www.w3.org/2000/svg\" height=\"24px\"viewBox=\"0 0 24 24\"\n",
       "       width=\"24px\">\n",
       "    <path d=\"M7,19H8.4L18.45,9,17,7.55,7,17.6ZM5,21V16.75L18.45,3.32a2,2,0,0,1,2.83,0l1.4,1.43a1.91,1.91,0,0,1,.58,1.4,1.91,1.91,0,0,1-.58,1.4L9.25,21ZM18.45,9,17,7.55Zm-12,3A5.31,5.31,0,0,0,4.9,8.1,5.31,5.31,0,0,0,1,6.5,5.31,5.31,0,0,0,4.9,4.9,5.31,5.31,0,0,0,6.5,1,5.31,5.31,0,0,0,8.1,4.9,5.31,5.31,0,0,0,12,6.5,5.46,5.46,0,0,0,6.5,12Z\"/>\n",
       "  </svg>\n",
       "    </button>\n",
       "    <script>\n",
       "      (() => {\n",
       "      const buttonEl =\n",
       "        document.querySelector('#id_f18efb43-3aeb-4126-9f25-16e426a931c6 button.colab-df-generate');\n",
       "      buttonEl.style.display =\n",
       "        google.colab.kernel.accessAllowed ? 'block' : 'none';\n",
       "\n",
       "      buttonEl.onclick = () => {\n",
       "        google.colab.notebook.generateWithVariable('dataframe');\n",
       "      }\n",
       "      })();\n",
       "    </script>\n",
       "  </div>\n",
       "\n",
       "    </div>\n",
       "  </div>\n"
      ],
      "text/plain": [
       "      age     sex       bmi  children smoker     region       charges\n",
       "27     55  female  37.69125         2     no  northwest  11900.573282\n",
       "997    63  female  42.37750         0     no  southeast  13471.329445\n",
       "162    54    male  45.54000         1     no  southwest  10137.035440\n",
       "824    60    male  27.96800         0     no  northwest  12147.896656\n",
       "392    48    male  36.16175         1     no  northeast   8695.138733\n",
       "...   ...     ...       ...       ...    ...        ...           ...\n",
       "381    55    male  35.28775         0    yes  northeast  41034.581386\n",
       "538    46  female  32.25750         1     no  southeast   7986.104575\n",
       "73     58    male  36.81150         1     no  southeast  11588.227123\n",
       "521    32  female  50.85300         0     no  southeast   3874.352466\n",
       "1205   35    male  20.53900         1     no  northwest   4963.005388\n",
       "\n",
       "[1271 rows x 7 columns]"
      ]
     },
     "execution_count": 310,
     "metadata": {},
     "output_type": "execute_result"
    }
   ],
   "source": [
    "dataframe"
   ]
  },
  {
   "cell_type": "code",
   "execution_count": 311,
   "metadata": {
    "colab": {
     "base_uri": "https://localhost:8080/"
    },
    "executionInfo": {
     "elapsed": 33,
     "status": "ok",
     "timestamp": 1707309172704,
     "user": {
      "displayName": "ASAD AYUB",
      "userId": "01156840666497798230"
     },
     "user_tz": -300
    },
    "id": "UuLBqLjRq24S",
    "outputId": "a611cae2-3f15-48ed-a220-00a1152c475c"
   },
   "outputs": [
    {
     "data": {
      "text/plain": [
       "(array([[55.     ,  0.     , 37.69125,  2.     ,  0.     ],\n",
       "        [63.     ,  0.     , 42.3775 ,  0.     ,  0.     ],\n",
       "        [54.     ,  1.     , 45.54   ,  1.     ,  0.     ],\n",
       "        ...,\n",
       "        [58.     ,  1.     , 36.8115 ,  1.     ,  0.     ],\n",
       "        [32.     ,  0.     , 50.853  ,  0.     ,  0.     ],\n",
       "        [35.     ,  1.     , 20.539  ,  1.     ,  0.     ]]),\n",
       " array([[11900.5732825],\n",
       "        [13471.329445 ],\n",
       "        [10137.03544  ],\n",
       "        ...,\n",
       "        [11588.227123 ],\n",
       "        [ 3874.352466 ],\n",
       "        [ 4963.005388 ]]))"
      ]
     },
     "execution_count": 311,
     "metadata": {},
     "output_type": "execute_result"
    }
   ],
   "source": [
    "inputs_array, targets_array = dataframe_to_arrays(dataframe)\n",
    "inputs_array, targets_array"
   ]
  },
  {
   "cell_type": "code",
   "execution_count": 312,
   "metadata": {
    "colab": {
     "base_uri": "https://localhost:8080/"
    },
    "executionInfo": {
     "elapsed": 31,
     "status": "ok",
     "timestamp": 1707309172705,
     "user": {
      "displayName": "ASAD AYUB",
      "userId": "01156840666497798230"
     },
     "user_tz": -300
    },
    "id": "1CPa8DuPQj4z",
    "outputId": "7f0445d9-071a-42a5-81a0-4c76a2bcbfe2"
   },
   "outputs": [
    {
     "data": {
      "text/plain": [
       "((1271, 5), (1271, 1))"
      ]
     },
     "execution_count": 312,
     "metadata": {},
     "output_type": "execute_result"
    }
   ],
   "source": [
    "inputs_array.shape, targets_array.shape"
   ]
  },
  {
   "cell_type": "markdown",
   "metadata": {
    "id": "57-8wuJRzJgA"
   },
   "source": [
    "**Convert the numpy arrays `inputs_array` and `targets_array` into PyTorch tensors. with data type `torch.float32`.**"
   ]
  },
  {
   "cell_type": "code",
   "execution_count": 313,
   "metadata": {
    "executionInfo": {
     "elapsed": 28,
     "status": "ok",
     "timestamp": 1707309172705,
     "user": {
      "displayName": "ASAD AYUB",
      "userId": "01156840666497798230"
     },
     "user_tz": -300
    },
    "id": "lQ0sT_2cR2NN"
   },
   "outputs": [],
   "source": [
    "inputs =  torch.tensor(inputs_array, dtype=torch.float32)\n",
    "targets = torch.tensor(targets_array, dtype=torch.float32)"
   ]
  },
  {
   "cell_type": "code",
   "execution_count": 314,
   "metadata": {
    "colab": {
     "base_uri": "https://localhost:8080/"
    },
    "executionInfo": {
     "elapsed": 27,
     "status": "ok",
     "timestamp": 1707309172705,
     "user": {
      "displayName": "ASAD AYUB",
      "userId": "01156840666497798230"
     },
     "user_tz": -300
    },
    "id": "lXuIyVm3zVbf",
    "outputId": "4737ba35-67ce-4dc6-ecfd-be3eb913ae81"
   },
   "outputs": [
    {
     "data": {
      "text/plain": [
       "(torch.float32, torch.float32)"
      ]
     },
     "execution_count": 314,
     "metadata": {},
     "output_type": "execute_result"
    }
   ],
   "source": [
    "inputs.dtype, targets.dtype"
   ]
  },
  {
   "cell_type": "markdown",
   "metadata": {
    "id": "m59YUZNGzdxp"
   },
   "source": [
    "Next, we need to create PyTorch datasets & data loaders for training & validation. We'll start by creating a `TensorDataset`."
   ]
  },
  {
   "cell_type": "code",
   "execution_count": 315,
   "metadata": {
    "executionInfo": {
     "elapsed": 25,
     "status": "ok",
     "timestamp": 1707309172705,
     "user": {
      "displayName": "ASAD AYUB",
      "userId": "01156840666497798230"
     },
     "user_tz": -300
    },
    "id": "YkdvLWjLzVYa"
   },
   "outputs": [],
   "source": [
    "dataset = TensorDataset(inputs, targets)"
   ]
  },
  {
   "cell_type": "markdown",
   "metadata": {
    "id": "GViU31Rhzn_X"
   },
   "source": [
    "**We will take a number between `0.1` and `0.2` to determine the fraction of data that will be used for creating the validation set. Then we will use `random_split` to create training & validation datasets.**"
   ]
  },
  {
   "cell_type": "code",
   "execution_count": 316,
   "metadata": {
    "colab": {
     "base_uri": "https://localhost:8080/"
    },
    "executionInfo": {
     "elapsed": 24,
     "status": "ok",
     "timestamp": 1707309172706,
     "user": {
      "displayName": "ASAD AYUB",
      "userId": "01156840666497798230"
     },
     "user_tz": -300
    },
    "id": "LL5Cv-hVSRUV",
    "outputId": "4cefd1d9-f621-4498-b2f4-af153f83505c"
   },
   "outputs": [
    {
     "data": {
      "text/plain": [
       "1271"
      ]
     },
     "execution_count": 316,
     "metadata": {},
     "output_type": "execute_result"
    }
   ],
   "source": [
    "num_rows"
   ]
  },
  {
   "cell_type": "code",
   "execution_count": 317,
   "metadata": {
    "executionInfo": {
     "elapsed": 22,
     "status": "ok",
     "timestamp": 1707309172706,
     "user": {
      "displayName": "ASAD AYUB",
      "userId": "01156840666497798230"
     },
     "user_tz": -300
    },
    "id": "v-kGxHLlzVVR"
   },
   "outputs": [],
   "source": [
    "val_percent = 0.1 # between 0.1 and 0.2\n",
    "val_size = int(num_rows * val_percent)\n",
    "train_size = num_rows - val_size\n",
    "\n",
    "\n",
    "train_ds, val_ds = random_split(dataset, [train_size, val_size]) # Use the random_split function to split dataset into 2 parts of the desired length"
   ]
  },
  {
   "cell_type": "markdown",
   "metadata": {
    "id": "e1Y7keNhz283"
   },
   "source": [
    "Finally, we can create data loaders for training & validation.\n",
    "\n",
    "**Picking a batch size for the data loader.**"
   ]
  },
  {
   "cell_type": "code",
   "execution_count": 318,
   "metadata": {
    "executionInfo": {
     "elapsed": 21,
     "status": "ok",
     "timestamp": 1707309172706,
     "user": {
      "displayName": "ASAD AYUB",
      "userId": "01156840666497798230"
     },
     "user_tz": -300
    },
    "id": "a9oJxHK4zVSQ"
   },
   "outputs": [],
   "source": [
    "batch_size = 12"
   ]
  },
  {
   "cell_type": "code",
   "execution_count": 319,
   "metadata": {
    "executionInfo": {
     "elapsed": 20,
     "status": "ok",
     "timestamp": 1707309172706,
     "user": {
      "displayName": "ASAD AYUB",
      "userId": "01156840666497798230"
     },
     "user_tz": -300
    },
    "id": "z_a3n_aPzVPS"
   },
   "outputs": [],
   "source": [
    "train_loader = DataLoader(train_ds, batch_size, shuffle=True)\n",
    "val_loader = DataLoader(val_ds, batch_size)"
   ]
  },
  {
   "cell_type": "markdown",
   "metadata": {
    "id": "r8IIOKu8z9KW"
   },
   "source": [
    "Let's look at a batch of data to verify everything is working fine so far."
   ]
  },
  {
   "cell_type": "code",
   "execution_count": 320,
   "metadata": {
    "colab": {
     "base_uri": "https://localhost:8080/"
    },
    "executionInfo": {
     "elapsed": 19,
     "status": "ok",
     "timestamp": 1707309172706,
     "user": {
      "displayName": "ASAD AYUB",
      "userId": "01156840666497798230"
     },
     "user_tz": -300
    },
    "id": "GmZ4G7yXzVMM",
    "outputId": "0897f7ca-ed25-4e7d-d2aa-ad56ca3e93f2"
   },
   "outputs": [
    {
     "name": "stdout",
     "output_type": "stream",
     "text": [
      "inputs: tensor([[45.0000,  0.0000, 38.0650,  0.0000,  0.0000],\n",
      "        [45.0000,  1.0000, 26.3293,  2.0000,  1.0000],\n",
      "        [28.0000,  1.0000, 36.4320,  0.0000,  1.0000],\n",
      "        [49.0000,  1.0000, 29.4400,  2.0000,  1.0000],\n",
      "        [48.0000,  0.0000, 31.3547,  1.0000,  0.0000],\n",
      "        [38.0000,  1.0000, 42.6075,  1.0000,  0.0000],\n",
      "        [45.0000,  1.0000, 38.7550,  1.0000,  0.0000],\n",
      "        [50.0000,  1.0000, 36.9265,  2.0000,  0.0000],\n",
      "        [27.0000,  0.0000, 41.4920,  0.0000,  1.0000],\n",
      "        [41.0000,  0.0000, 42.6650,  2.0000,  0.0000],\n",
      "        [49.0000,  0.0000, 27.4217,  3.0000,  1.0000],\n",
      "        [52.0000,  1.0000, 42.2050,  0.0000,  0.0000]])\n",
      "targets: tensor([[ 7124.7314],\n",
      "        [20465.5977],\n",
      "        [33631.9844],\n",
      "        [22607.3516],\n",
      "        [ 9163.8330],\n",
      "        [ 5897.2812],\n",
      "        [ 7222.5405],\n",
      "        [24573.3320],\n",
      "        [36019.8828],\n",
      "        [ 7150.6187],\n",
      "        [23383.7051],\n",
      "        [ 8870.2285]])\n"
     ]
    }
   ],
   "source": [
    "for xb, yb in train_loader:\n",
    "    print(\"inputs:\", xb)\n",
    "    print(\"targets:\", yb)\n",
    "    break"
   ]
  },
  {
   "cell_type": "code",
   "execution_count": 320,
   "metadata": {
    "executionInfo": {
     "elapsed": 18,
     "status": "ok",
     "timestamp": 1707309172707,
     "user": {
      "displayName": "ASAD AYUB",
      "userId": "01156840666497798230"
     },
     "user_tz": -300
    },
    "id": "cZn7Ua3qzVJC"
   },
   "outputs": [],
   "source": []
  },
  {
   "cell_type": "markdown",
   "metadata": {
    "id": "hb9GzRsfJy7x"
   },
   "source": [
    "## Step 3: Create a Linear Regression Model\n",
    "\n"
   ]
  },
  {
   "cell_type": "code",
   "execution_count": 321,
   "metadata": {
    "executionInfo": {
     "elapsed": 3,
     "status": "ok",
     "timestamp": 1707309174405,
     "user": {
      "displayName": "ASAD AYUB",
      "userId": "01156840666497798230"
     },
     "user_tz": -300
    },
    "id": "f5a54PGmJzYT"
   },
   "outputs": [],
   "source": [
    "input_size = len(input_cols)\n",
    "output_size = len(output_cols)"
   ]
  },
  {
   "cell_type": "code",
   "execution_count": 322,
   "metadata": {
    "colab": {
     "base_uri": "https://localhost:8080/"
    },
    "executionInfo": {
     "elapsed": 23,
     "status": "ok",
     "timestamp": 1707309175010,
     "user": {
      "displayName": "ASAD AYUB",
      "userId": "01156840666497798230"
     },
     "user_tz": -300
    },
    "id": "1mobFqVWUGtN",
    "outputId": "c5d51383-6eb9-4a5b-d966-cf6b4972db5d"
   },
   "outputs": [
    {
     "data": {
      "text/plain": [
       "(5, 1)"
      ]
     },
     "execution_count": 322,
     "metadata": {},
     "output_type": "execute_result"
    }
   ],
   "source": [
    "input_size, output_size"
   ]
  },
  {
   "cell_type": "code",
   "execution_count": 323,
   "metadata": {
    "executionInfo": {
     "elapsed": 20,
     "status": "ok",
     "timestamp": 1707309175011,
     "user": {
      "displayName": "ASAD AYUB",
      "userId": "01156840666497798230"
     },
     "user_tz": -300
    },
    "id": "eyp3_Jgi0EmW"
   },
   "outputs": [],
   "source": [
    "class InsuranceModel(nn.Module):\n",
    "    def __init__(self):\n",
    "        super().__init__()\n",
    "        self.linear = nn.Linear(input_size, output_size)                  # fill this (hint: use input_size & output_size defined above)\n",
    "\n",
    "    def forward(self, xb):\n",
    "        out = self.linear(xb)                          # fill this\n",
    "        return out\n",
    "\n",
    "    def training_step(self, batch):\n",
    "        inputs, targets = batch\n",
    "        # Generate predictions\n",
    "        out = self(inputs)\n",
    "        # Calcuate loss\n",
    "        #loss = F.mse_loss(out, targets)\n",
    "        loss = F.smooth_l1_loss(out, targets)                           # fill this\n",
    "        return loss\n",
    "\n",
    "    def validation_step(self, batch):\n",
    "        inputs, targets = batch\n",
    "        # Generate predictions\n",
    "        out = self(inputs)\n",
    "        # Calculate loss\n",
    "        #loss = F.mse_loss(out, targets)\n",
    "        loss = F.smooth_l1_loss(out, targets)                            # fill this\n",
    "        return {'val_loss': loss.detach()}\n",
    "\n",
    "    def validation_epoch_end(self, outputs):\n",
    "        batch_losses = [x['val_loss'] for x in outputs]\n",
    "        epoch_loss = torch.stack(batch_losses).mean()   # Combine losses\n",
    "        return {'val_loss': epoch_loss.item()}\n",
    "\n",
    "    def epoch_end(self, epoch, result, num_epochs):\n",
    "        # Print result every 20th epoch\n",
    "        if (epoch+1) % 20 == 0 or epoch == num_epochs-1:\n",
    "            print(\"Epoch [{}], val_loss: {:.4f}\".format(epoch+1, result['val_loss']))"
   ]
  },
  {
   "cell_type": "markdown",
   "metadata": {
    "id": "3_fBkJtd0OCd"
   },
   "source": [
    "Let us create a model using the `InsuranceModel` class. You may need to come back later and re-run the next cell to reinitialize the model, in case the loss becomes `nan` or `infinity`."
   ]
  },
  {
   "cell_type": "code",
   "execution_count": 324,
   "metadata": {
    "executionInfo": {
     "elapsed": 19,
     "status": "ok",
     "timestamp": 1707309175012,
     "user": {
      "displayName": "ASAD AYUB",
      "userId": "01156840666497798230"
     },
     "user_tz": -300
    },
    "id": "9bO8ZoTz0EsE"
   },
   "outputs": [],
   "source": [
    "model = InsuranceModel()"
   ]
  },
  {
   "cell_type": "markdown",
   "metadata": {
    "id": "_u5c3GKv0Q3U"
   },
   "source": [
    "Let's check out the weights and biases of the model using `model.parameters`."
   ]
  },
  {
   "cell_type": "code",
   "execution_count": 325,
   "metadata": {
    "colab": {
     "base_uri": "https://localhost:8080/"
    },
    "executionInfo": {
     "elapsed": 18,
     "status": "ok",
     "timestamp": 1707309175013,
     "user": {
      "displayName": "ASAD AYUB",
      "userId": "01156840666497798230"
     },
     "user_tz": -300
    },
    "id": "DdWy6_W00Eu2",
    "outputId": "ff9e6bd1-3192-49fd-88e1-811ffba8b0d2"
   },
   "outputs": [
    {
     "data": {
      "text/plain": [
       "[Parameter containing:\n",
       " tensor([[-0.2595, -0.0620, -0.1902,  0.4319, -0.3940]], requires_grad=True),\n",
       " Parameter containing:\n",
       " tensor([0.1968], requires_grad=True)]"
      ]
     },
     "execution_count": 325,
     "metadata": {},
     "output_type": "execute_result"
    }
   ],
   "source": [
    "list(model.parameters())"
   ]
  },
  {
   "cell_type": "code",
   "execution_count": 325,
   "metadata": {
    "executionInfo": {
     "elapsed": 14,
     "status": "ok",
     "timestamp": 1707309175014,
     "user": {
      "displayName": "ASAD AYUB",
      "userId": "01156840666497798230"
     },
     "user_tz": -300
    },
    "id": "FCQzMmAx0E96"
   },
   "outputs": [],
   "source": []
  },
  {
   "cell_type": "markdown",
   "metadata": {
    "id": "_0rYnEkAJ1w0"
   },
   "source": [
    "## Step 4: Train the model to fit the data\n",
    "\n",
    "To train our model, we'll use the same `fit` function explained in the lecture. That's the benefit of defining a generic training loop - you can use it for any problem."
   ]
  },
  {
   "cell_type": "code",
   "execution_count": 326,
   "metadata": {
    "executionInfo": {
     "elapsed": 3,
     "status": "ok",
     "timestamp": 1707309178210,
     "user": {
      "displayName": "ASAD AYUB",
      "userId": "01156840666497798230"
     },
     "user_tz": -300
    },
    "id": "C6gVRTzrJ2Vi"
   },
   "outputs": [],
   "source": [
    "def evaluate(model, val_loader):\n",
    "    outputs = [model.validation_step(batch) for batch in val_loader]\n",
    "    return model.validation_epoch_end(outputs)\n",
    "\n",
    "def fit(epochs, lr, model, train_loader, val_loader, opt_func=torch.optim.SGD):\n",
    "    history = []\n",
    "    optimizer = opt_func(model.parameters(), lr)\n",
    "    for epoch in range(epochs):\n",
    "        # Training Phase\n",
    "        for batch in train_loader:\n",
    "            loss = model.training_step(batch)\n",
    "            loss.backward()\n",
    "            optimizer.step()\n",
    "            optimizer.zero_grad()\n",
    "        # Validation phase\n",
    "        result = evaluate(model, val_loader)\n",
    "        model.epoch_end(epoch, result, epochs)\n",
    "        history.append(result)\n",
    "    return history"
   ]
  },
  {
   "cell_type": "markdown",
   "metadata": {
    "id": "VPjQTg4jE2LW"
   },
   "source": [
    "**Let's use the `evaluate` function to calculate the loss on the validation set before training.**"
   ]
  },
  {
   "cell_type": "code",
   "execution_count": 327,
   "metadata": {
    "colab": {
     "base_uri": "https://localhost:8080/"
    },
    "executionInfo": {
     "elapsed": 4,
     "status": "ok",
     "timestamp": 1707309178806,
     "user": {
      "displayName": "ASAD AYUB",
      "userId": "01156840666497798230"
     },
     "user_tz": -300
    },
    "id": "O4Gn6Y8u0XfI",
    "outputId": "abbc949b-8f2e-4b82-b6bf-80af134acb6c"
   },
   "outputs": [
    {
     "name": "stdout",
     "output_type": "stream",
     "text": [
      "{'val_loss': 13524.2509765625}\n"
     ]
    }
   ],
   "source": [
    "result = evaluate(model, val_loader) # Use the the evaluate function\n",
    "print(result)"
   ]
  },
  {
   "cell_type": "markdown",
   "metadata": {
    "id": "jPgAT0bIE8cw"
   },
   "source": [
    "\n",
    "We are now ready to train the model. You may need to run the training loop many times, for different number of epochs and with different learning rates, to get a good result. Also, if your loss becomes too large (or `nan`), you may have to re-initialize the model by running the cell `model = InsuranceModel()`. Experiment with this for a while, and try to get to as low a loss as possible."
   ]
  },
  {
   "cell_type": "markdown",
   "metadata": {
    "id": "tossjJygFBTM"
   },
   "source": [
    "**We will train the model 4-5 times with different learning rates & for different number of epochs.**\n",
    "\n",
    "Will vary learning rates by orders of 10 (e.g. `1e-2`, `1e-3`, `1e-4`, `1e-5`, `1e-6`) to figure out what works."
   ]
  },
  {
   "cell_type": "code",
   "execution_count": 328,
   "metadata": {
    "colab": {
     "base_uri": "https://localhost:8080/"
    },
    "executionInfo": {
     "elapsed": 3206,
     "status": "ok",
     "timestamp": 1707309182009,
     "user": {
      "displayName": "ASAD AYUB",
      "userId": "01156840666497798230"
     },
     "user_tz": -300
    },
    "id": "I3wKybr10Xhd",
    "outputId": "89fc0740-5dce-4be9-dcaf-aa2aced5ed1e"
   },
   "outputs": [
    {
     "name": "stdout",
     "output_type": "stream",
     "text": [
      "Epoch [20], val_loss: 9096.6270\n",
      "Epoch [40], val_loss: 7692.7144\n",
      "Epoch [50], val_loss: 7498.1348\n"
     ]
    }
   ],
   "source": [
    "epochs = 50\n",
    "lr = 1e-3\n",
    "history1 = fit(epochs, lr, model, train_loader, val_loader)"
   ]
  },
  {
   "cell_type": "code",
   "execution_count": 329,
   "metadata": {
    "colab": {
     "base_uri": "https://localhost:8080/"
    },
    "executionInfo": {
     "elapsed": 20836,
     "status": "ok",
     "timestamp": 1707309202836,
     "user": {
      "displayName": "ASAD AYUB",
      "userId": "01156840666497798230"
     },
     "user_tz": -300
    },
    "id": "03C74Ank0Xj4",
    "outputId": "cb1c53fb-91dc-49e5-9a05-d08e1bb8ebdc"
   },
   "outputs": [
    {
     "name": "stdout",
     "output_type": "stream",
     "text": [
      "Epoch [20], val_loss: 7498.1348\n",
      "Epoch [40], val_loss: 7498.1348\n",
      "Epoch [60], val_loss: 7498.1348\n",
      "Epoch [80], val_loss: 7498.1348\n",
      "Epoch [100], val_loss: 7498.1348\n",
      "Epoch [120], val_loss: 7498.1348\n",
      "Epoch [140], val_loss: 7498.1348\n",
      "Epoch [160], val_loss: 7498.1348\n",
      "Epoch [180], val_loss: 7498.1348\n",
      "Epoch [200], val_loss: 7498.1348\n",
      "Epoch [220], val_loss: 7498.1348\n",
      "Epoch [240], val_loss: 7498.1348\n",
      "Epoch [260], val_loss: 7498.1348\n",
      "Epoch [280], val_loss: 7498.1348\n",
      "Epoch [300], val_loss: 7498.1348\n"
     ]
    }
   ],
   "source": [
    "epochs = 300\n",
    "lr = 1e-9\n",
    "history1 = fit(epochs, lr, model, train_loader, val_loader)"
   ]
  },
  {
   "cell_type": "code",
   "execution_count": 330,
   "metadata": {
    "colab": {
     "base_uri": "https://localhost:8080/"
    },
    "executionInfo": {
     "elapsed": 20432,
     "status": "ok",
     "timestamp": 1707309223207,
     "user": {
      "displayName": "ASAD AYUB",
      "userId": "01156840666497798230"
     },
     "user_tz": -300
    },
    "id": "_Qw8YyeO0Xm2",
    "outputId": "5c06bf80-ea45-4bcb-dbf1-8f7eec918a1a"
   },
   "outputs": [
    {
     "name": "stdout",
     "output_type": "stream",
     "text": [
      "Epoch [20], val_loss: 7184.4824\n",
      "Epoch [40], val_loss: 7068.7764\n",
      "Epoch [60], val_loss: 7056.7896\n",
      "Epoch [80], val_loss: 7055.6035\n",
      "Epoch [100], val_loss: 7058.4316\n",
      "Epoch [120], val_loss: 7050.9780\n",
      "Epoch [140], val_loss: 7053.6968\n",
      "Epoch [160], val_loss: 7044.5737\n",
      "Epoch [180], val_loss: 7043.3232\n",
      "Epoch [200], val_loss: 7042.6411\n",
      "Epoch [220], val_loss: 7039.3511\n",
      "Epoch [240], val_loss: 7031.6201\n",
      "Epoch [260], val_loss: 7032.2939\n",
      "Epoch [280], val_loss: 7031.7124\n",
      "Epoch [300], val_loss: 7031.6401\n"
     ]
    }
   ],
   "source": [
    "epochs = 300\n",
    "lr = 1e-2\n",
    "history1 = fit(epochs, lr, model, train_loader, val_loader)"
   ]
  },
  {
   "cell_type": "code",
   "execution_count": 331,
   "metadata": {
    "colab": {
     "base_uri": "https://localhost:8080/"
    },
    "executionInfo": {
     "elapsed": 33211,
     "status": "ok",
     "timestamp": 1707309256362,
     "user": {
      "displayName": "ASAD AYUB",
      "userId": "01156840666497798230"
     },
     "user_tz": -300
    },
    "id": "FKqmTw0i0XqM",
    "outputId": "ccacd8c3-0ee2-4418-e1a9-cbd7555cd0a8"
   },
   "outputs": [
    {
     "name": "stdout",
     "output_type": "stream",
     "text": [
      "Epoch [20], val_loss: 7031.6348\n",
      "Epoch [40], val_loss: 7031.6309\n",
      "Epoch [60], val_loss: 7031.6245\n",
      "Epoch [80], val_loss: 7031.6191\n",
      "Epoch [100], val_loss: 7031.6157\n",
      "Epoch [120], val_loss: 7031.6123\n",
      "Epoch [140], val_loss: 7031.6099\n",
      "Epoch [160], val_loss: 7031.6050\n",
      "Epoch [180], val_loss: 7031.6016\n",
      "Epoch [200], val_loss: 7031.5967\n",
      "Epoch [220], val_loss: 7031.5923\n",
      "Epoch [240], val_loss: 7031.5879\n",
      "Epoch [260], val_loss: 7031.5830\n",
      "Epoch [280], val_loss: 7031.5796\n",
      "Epoch [300], val_loss: 7031.5747\n",
      "Epoch [320], val_loss: 7031.5703\n",
      "Epoch [340], val_loss: 7031.5669\n",
      "Epoch [360], val_loss: 7031.5645\n",
      "Epoch [380], val_loss: 7031.5610\n",
      "Epoch [400], val_loss: 7031.5552\n",
      "Epoch [420], val_loss: 7031.5527\n",
      "Epoch [440], val_loss: 7031.5483\n",
      "Epoch [460], val_loss: 7031.5454\n",
      "Epoch [480], val_loss: 7031.5420\n",
      "Epoch [500], val_loss: 7031.5391\n"
     ]
    }
   ],
   "source": [
    "epochs = 500\n",
    "lr = 1e-6\n",
    "history5 = fit(epochs, lr, model, train_loader, val_loader)"
   ]
  },
  {
   "cell_type": "markdown",
   "metadata": {
    "id": "NKjEGS4yFVvH"
   },
   "source": [
    "**Final validation loss of our model**"
   ]
  },
  {
   "cell_type": "code",
   "execution_count": 332,
   "metadata": {
    "colab": {
     "base_uri": "https://localhost:8080/"
    },
    "executionInfo": {
     "elapsed": 38,
     "status": "ok",
     "timestamp": 1707309256362,
     "user": {
      "displayName": "ASAD AYUB",
      "userId": "01156840666497798230"
     },
     "user_tz": -300
    },
    "id": "68ZHPznAFQrV",
    "outputId": "29c0cd0b-528c-4e57-f3e6-63d7b90b60b8"
   },
   "outputs": [
    {
     "data": {
      "text/plain": [
       "{'val_loss': 7031.5390625}"
      ]
     },
     "execution_count": 332,
     "metadata": {},
     "output_type": "execute_result"
    }
   ],
   "source": [
    "val_loss = evaluate(model, val_loader)\n",
    "val_loss"
   ]
  },
  {
   "cell_type": "markdown",
   "metadata": {
    "id": "hO7nFZdeJ4dN"
   },
   "source": [
    "## Step 5: Make predictions using the trained model\n",
    "\n",
    "**Let's define a function to make predictions on a single input**"
   ]
  },
  {
   "cell_type": "code",
   "execution_count": 333,
   "metadata": {
    "executionInfo": {
     "elapsed": 33,
     "status": "ok",
     "timestamp": 1707309256363,
     "user": {
      "displayName": "ASAD AYUB",
      "userId": "01156840666497798230"
     },
     "user_tz": -300
    },
    "id": "34V9T5q4J451"
   },
   "outputs": [],
   "source": [
    "def predict_single(input, target, model):\n",
    "    inputs = input.unsqueeze(0)\n",
    "    predictions = model(inputs)              # fill this\n",
    "    prediction = predictions[0].detach()\n",
    "    print(\"Input:\", input)\n",
    "    print(\"Target:\", target)\n",
    "    print(\"Prediction:\", prediction)"
   ]
  },
  {
   "cell_type": "code",
   "execution_count": 339,
   "metadata": {
    "colab": {
     "base_uri": "https://localhost:8080/"
    },
    "executionInfo": {
     "elapsed": 9,
     "status": "ok",
     "timestamp": 1707309353660,
     "user": {
      "displayName": "ASAD AYUB",
      "userId": "01156840666497798230"
     },
     "user_tz": -300
    },
    "id": "MhmDScYTFt_B",
    "outputId": "0b21528b-d717-4ed4-f360-e4f3648a443b"
   },
   "outputs": [
    {
     "name": "stdout",
     "output_type": "stream",
     "text": [
      "Input: tensor([48.0000,  1.0000, 34.1550,  0.0000,  0.0000])\n",
      "Target: tensor([7555.9458])\n",
      "Prediction: tensor([9416.0840])\n"
     ]
    }
   ],
   "source": [
    "input, target = val_ds[1]\n",
    "predict_single(input, target, model)"
   ]
  },
  {
   "cell_type": "code",
   "execution_count": 338,
   "metadata": {
    "colab": {
     "base_uri": "https://localhost:8080/"
    },
    "executionInfo": {
     "elapsed": 11,
     "status": "ok",
     "timestamp": 1707309343783,
     "user": {
      "displayName": "ASAD AYUB",
      "userId": "01156840666497798230"
     },
     "user_tz": -300
    },
    "id": "01HI4E9fFzn_",
    "outputId": "d8a4b44e-6a3f-4fa6-8a5f-544a539955b0"
   },
   "outputs": [
    {
     "name": "stdout",
     "output_type": "stream",
     "text": [
      "Input: tensor([43.0000,  1.0000, 31.4640,  3.0000,  0.0000])\n",
      "Target: tensor([8348.0312])\n",
      "Prediction: tensor([8583.1621])\n"
     ]
    }
   ],
   "source": [
    "input, target = val_ds[17]\n",
    "predict_single(input, target, model)"
   ]
  },
  {
   "cell_type": "code",
   "execution_count": 336,
   "metadata": {
    "colab": {
     "base_uri": "https://localhost:8080/"
    },
    "executionInfo": {
     "elapsed": 27,
     "status": "ok",
     "timestamp": 1707309256363,
     "user": {
      "displayName": "ASAD AYUB",
      "userId": "01156840666497798230"
     },
     "user_tz": -300
    },
    "id": "UqpTkv7sF0Ua",
    "outputId": "b1c42937-3da0-4036-c2b7-aa8702658654"
   },
   "outputs": [
    {
     "name": "stdout",
     "output_type": "stream",
     "text": [
      "Input: tensor([33.0000,  1.0000, 33.8100,  4.0000,  0.0000])\n",
      "Target: tensor([5877.3979])\n",
      "Prediction: tensor([6016.7754])\n"
     ]
    }
   ],
   "source": [
    "input, target = val_ds[23]\n",
    "predict_single(input, target, model)"
   ]
  },
  {
   "cell_type": "code",
   "execution_count": 336,
   "metadata": {
    "executionInfo": {
     "elapsed": 25,
     "status": "ok",
     "timestamp": 1707309256363,
     "user": {
      "displayName": "ASAD AYUB",
      "userId": "01156840666497798230"
     },
     "user_tz": -300
    },
    "id": "h5z432ElF0bk"
   },
   "outputs": [],
   "source": []
  },
  {
   "cell_type": "code",
   "execution_count": 336,
   "metadata": {
    "executionInfo": {
     "elapsed": 23,
     "status": "ok",
     "timestamp": 1707309256363,
     "user": {
      "displayName": "ASAD AYUB",
      "userId": "01156840666497798230"
     },
     "user_tz": -300
    },
    "id": "vPt0kH-zF0rf"
   },
   "outputs": [],
   "source": []
  }
 ],
 "metadata": {
  "colab": {
   "authorship_tag": "ABX9TyO0pwejAdKes+MiSvFwa87d",
   "collapsed_sections": [
    "BKpCbS9TJwYo"
   ],
   "provenance": []
  },
  "kernelspec": {
   "display_name": "Python 3 (ipykernel)",
   "language": "python",
   "name": "python3"
  },
  "language_info": {
   "codemirror_mode": {
    "name": "ipython",
    "version": 3
   },
   "file_extension": ".py",
   "mimetype": "text/x-python",
   "name": "python",
   "nbconvert_exporter": "python",
   "pygments_lexer": "ipython3",
   "version": "3.11.5"
  }
 },
 "nbformat": 4,
 "nbformat_minor": 1
}
