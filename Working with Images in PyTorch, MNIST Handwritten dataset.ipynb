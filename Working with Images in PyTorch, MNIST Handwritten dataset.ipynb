{
 "cells": [
  {
   "cell_type": "markdown",
   "metadata": {
    "id": "J8dhoZqGxHeF"
   },
   "source": [
    "# Working with Images & Logistic Regression in PyTorch"
   ]
  },
  {
   "cell_type": "markdown",
   "metadata": {},
   "source": [
    "\n",
    "In this notebook, we will perform the following tasks:\n",
    "\n",
    "* Work with images in PyTorch using the MNIST dataset\n",
    "* Split the dataset into training, validation, and test sets\n",
    "* Create PyTorch models with custom logic by extending the `nn.Module `class\n",
    "* Interpret model outputs as probabilities using Softmax and pick predicted labels\n",
    "* Choose a useful evaluation metric (accuracy) and loss function (cross-entropy) for classification problems\n",
    "* Set up a training loop that also evaluates the model using the validation set\n",
    "* Test the model manually on randomly picked examples\n"
   ]
  },
  {
   "cell_type": "code",
   "execution_count": 1,
   "metadata": {
    "executionInfo": {
     "elapsed": 6911,
     "status": "ok",
     "timestamp": 1707205869421,
     "user": {
      "displayName": "ASAD AYUB",
      "userId": "01156840666497798230"
     },
     "user_tz": -300
    },
    "id": "s8cthSBbyhzP"
   },
   "outputs": [],
   "source": [
    "# Imports\n",
    "import torch\n",
    "import torchvision\n",
    "from torchvision.datasets import MNIST"
   ]
  },
  {
   "cell_type": "code",
   "execution_count": 2,
   "metadata": {
    "colab": {
     "base_uri": "https://localhost:8080/"
    },
    "executionInfo": {
     "elapsed": 1706,
     "status": "ok",
     "timestamp": 1707205871103,
     "user": {
      "displayName": "ASAD AYUB",
      "userId": "01156840666497798230"
     },
     "user_tz": -300
    },
    "id": "GgJnUyL2yh10",
    "outputId": "9c4123f0-57a6-438b-91db-602b6d845cec"
   },
   "outputs": [
    {
     "name": "stdout",
     "output_type": "stream",
     "text": [
      "Downloading http://yann.lecun.com/exdb/mnist/train-images-idx3-ubyte.gz\n",
      "Downloading http://yann.lecun.com/exdb/mnist/train-images-idx3-ubyte.gz to data/MNIST/raw/train-images-idx3-ubyte.gz\n"
     ]
    },
    {
     "name": "stderr",
     "output_type": "stream",
     "text": [
      "100%|██████████| 9912422/9912422 [00:00<00:00, 109291271.69it/s]\n"
     ]
    },
    {
     "name": "stdout",
     "output_type": "stream",
     "text": [
      "Extracting data/MNIST/raw/train-images-idx3-ubyte.gz to data/MNIST/raw\n",
      "\n",
      "Downloading http://yann.lecun.com/exdb/mnist/train-labels-idx1-ubyte.gz\n",
      "Downloading http://yann.lecun.com/exdb/mnist/train-labels-idx1-ubyte.gz to data/MNIST/raw/train-labels-idx1-ubyte.gz\n"
     ]
    },
    {
     "name": "stderr",
     "output_type": "stream",
     "text": [
      "100%|██████████| 28881/28881 [00:00<00:00, 23349208.52it/s]\n"
     ]
    },
    {
     "name": "stdout",
     "output_type": "stream",
     "text": [
      "Extracting data/MNIST/raw/train-labels-idx1-ubyte.gz to data/MNIST/raw\n",
      "\n",
      "Downloading http://yann.lecun.com/exdb/mnist/t10k-images-idx3-ubyte.gz\n",
      "Downloading http://yann.lecun.com/exdb/mnist/t10k-images-idx3-ubyte.gz to data/MNIST/raw/t10k-images-idx3-ubyte.gz\n"
     ]
    },
    {
     "name": "stderr",
     "output_type": "stream",
     "text": [
      "100%|██████████| 1648877/1648877 [00:00<00:00, 31844785.99it/s]\n"
     ]
    },
    {
     "name": "stdout",
     "output_type": "stream",
     "text": [
      "Extracting data/MNIST/raw/t10k-images-idx3-ubyte.gz to data/MNIST/raw\n",
      "\n",
      "Downloading http://yann.lecun.com/exdb/mnist/t10k-labels-idx1-ubyte.gz\n",
      "Downloading http://yann.lecun.com/exdb/mnist/t10k-labels-idx1-ubyte.gz to data/MNIST/raw/t10k-labels-idx1-ubyte.gz\n"
     ]
    },
    {
     "name": "stderr",
     "output_type": "stream",
     "text": [
      "100%|██████████| 4542/4542 [00:00<00:00, 15277088.03it/s]\n"
     ]
    },
    {
     "name": "stdout",
     "output_type": "stream",
     "text": [
      "Extracting data/MNIST/raw/t10k-labels-idx1-ubyte.gz to data/MNIST/raw\n",
      "\n"
     ]
    }
   ],
   "source": [
    "# Download training dataset\n",
    "dataset = MNIST(root='data/', download=True)"
   ]
  },
  {
   "cell_type": "code",
   "execution_count": 3,
   "metadata": {
    "colab": {
     "base_uri": "https://localhost:8080/"
    },
    "executionInfo": {
     "elapsed": 56,
     "status": "ok",
     "timestamp": 1707205871104,
     "user": {
      "displayName": "ASAD AYUB",
      "userId": "01156840666497798230"
     },
     "user_tz": -300
    },
    "id": "MsXrLa_Lyh43",
    "outputId": "c6f54898-ff38-4f4c-aec7-65e5cba5c2cc"
   },
   "outputs": [
    {
     "data": {
      "text/plain": [
       "60000"
      ]
     },
     "execution_count": 3,
     "metadata": {},
     "output_type": "execute_result"
    }
   ],
   "source": [
    "len(dataset)"
   ]
  },
  {
   "cell_type": "code",
   "execution_count": 4,
   "metadata": {
    "colab": {
     "base_uri": "https://localhost:8080/"
    },
    "executionInfo": {
     "elapsed": 53,
     "status": "ok",
     "timestamp": 1707205871104,
     "user": {
      "displayName": "ASAD AYUB",
      "userId": "01156840666497798230"
     },
     "user_tz": -300
    },
    "id": "i49rDRQeyh7q",
    "outputId": "8f1a9c75-0df0-4ace-aa39-e98191c03be0"
   },
   "outputs": [
    {
     "data": {
      "text/plain": [
       "10000"
      ]
     },
     "execution_count": 4,
     "metadata": {},
     "output_type": "execute_result"
    }
   ],
   "source": [
    "test_dataset = MNIST(root = 'data/', train = False)\n",
    "len(test_dataset)"
   ]
  },
  {
   "cell_type": "markdown",
   "metadata": {
    "id": "3qGoSUaszIcA"
   },
   "source": [
    "Now, Let see a sample element from the training dataset"
   ]
  },
  {
   "cell_type": "code",
   "execution_count": 5,
   "metadata": {
    "colab": {
     "base_uri": "https://localhost:8080/"
    },
    "executionInfo": {
     "elapsed": 51,
     "status": "ok",
     "timestamp": 1707205871104,
     "user": {
      "displayName": "ASAD AYUB",
      "userId": "01156840666497798230"
     },
     "user_tz": -300
    },
    "id": "Bj6rFC1Oyh-o",
    "outputId": "3b2d57be-fe67-4cfe-f277-27d7f5aa123a"
   },
   "outputs": [
    {
     "data": {
      "text/plain": [
       "(<PIL.Image.Image image mode=L size=28x28>, 5)"
      ]
     },
     "execution_count": 5,
     "metadata": {},
     "output_type": "execute_result"
    }
   ],
   "source": [
    "dataset[0]"
   ]
  },
  {
   "cell_type": "markdown",
   "metadata": {
    "id": "T5FRoVRSzhnv"
   },
   "source": [
    "It's a pair, consisting of a 28*28 px image and a lable. This image is an object of the class `PIL.Image.Image`, which is a part of the Python image library `Pillow`. We can view the image by using `matplotlib`, the de-facto plotting and graphing library."
   ]
  },
  {
   "cell_type": "code",
   "execution_count": 6,
   "metadata": {
    "executionInfo": {
     "elapsed": 49,
     "status": "ok",
     "timestamp": 1707205871104,
     "user": {
      "displayName": "ASAD AYUB",
      "userId": "01156840666497798230"
     },
     "user_tz": -300
    },
    "id": "5XeKUP_YzhSP"
   },
   "outputs": [],
   "source": [
    "import matplotlib.pyplot as plt\n",
    "%matplotlib inline"
   ]
  },
  {
   "cell_type": "markdown",
   "metadata": {
    "id": "tbmS91QI0qek"
   },
   "source": [
    "`%matplotlib inline` indicate that we want to plot the graphs within the notebook. Without this line graphs will show as an image in a popup. Statements starting with `%` are called magic commands."
   ]
  },
  {
   "cell_type": "code",
   "execution_count": 7,
   "metadata": {
    "colab": {
     "base_uri": "https://localhost:8080/",
     "height": 448
    },
    "executionInfo": {
     "elapsed": 49,
     "status": "ok",
     "timestamp": 1707205871104,
     "user": {
      "displayName": "ASAD AYUB",
      "userId": "01156840666497798230"
     },
     "user_tz": -300
    },
    "id": "EtFtZM-kyiBn",
    "outputId": "c7c594d6-ae4a-45e5-ac24-e52690da394c"
   },
   "outputs": [
    {
     "name": "stdout",
     "output_type": "stream",
     "text": [
      "Lable:  4\n"
     ]
    },
    {
     "data": {
      "image/png": "[encoded data removed]",
      "text/plain": [
       "<Figure size 640x480 with 1 Axes>"
      ]
     },
     "metadata": {},
     "output_type": "display_data"
    }
   ],
   "source": [
    "image, label = dataset[2]\n",
    "plt.imshow(image, cmap = 'gray')\n",
    "print('Lable: ', label)"
   ]
  },
  {
   "cell_type": "code",
   "execution_count": 8,
   "metadata": {
    "colab": {
     "base_uri": "https://localhost:8080/",
     "height": 448
    },
    "executionInfo": {
     "elapsed": 44,
     "status": "ok",
     "timestamp": 1707205871105,
     "user": {
      "displayName": "ASAD AYUB",
      "userId": "01156840666497798230"
     },
     "user_tz": -300
    },
    "id": "buvjnOubyiEo",
    "outputId": "7ad5b932-86d5-4280-df2b-585fe7422e02"
   },
   "outputs": [
    {
     "name": "stdout",
     "output_type": "stream",
     "text": [
      "Lable:  3\n"
     ]
    },
    {
     "data": {
      "image/png": "[encoded data removed]",
      "text/plain": [
       "<Figure size 640x480 with 1 Axes>"
      ]
     },
     "metadata": {},
     "output_type": "display_data"
    }
   ],
   "source": [
    "image, label = dataset[10]\n",
    "plt.imshow(image, cmap = 'gray')\n",
    "print('Lable: ', label)"
   ]
  },
  {
   "cell_type": "markdown",
   "metadata": {
    "id": "Z0E9_POf2Ofh"
   },
   "source": [
    "It's evident that these images are relatively small in size, and recognizing the digits can sometimes be challenging even for the human eye. While it's useful to look at these images, there's just one problem here: PyTorch doesn't know how to work with images. We need to convert the images into tensors. We can do this by specifying a transform while creating our dataset."
   ]
  },
  {
   "cell_type": "code",
   "execution_count": 9,
   "metadata": {
    "executionInfo": {
     "elapsed": 41,
     "status": "ok",
     "timestamp": 1707205871105,
     "user": {
      "displayName": "ASAD AYUB",
      "userId": "01156840666497798230"
     },
     "user_tz": -300
    },
    "id": "GytNQNi7yiHd"
   },
   "outputs": [],
   "source": [
    "import torchvision.transforms as transforms"
   ]
  },
  {
   "cell_type": "markdown",
   "metadata": {
    "id": "syUK4j262YLA"
   },
   "source": [
    "PyTorch datasets allow us to specify one or more transformation functions that are applied to the images as they are loaded. The `torchvision.transforms` module contains many such predefined functions. We'll use the `ToTensor` transform to convert images into PyTorch tensors."
   ]
  },
  {
   "cell_type": "code",
   "execution_count": 10,
   "metadata": {
    "executionInfo": {
     "elapsed": 41,
     "status": "ok",
     "timestamp": 1707205871105,
     "user": {
      "displayName": "ASAD AYUB",
      "userId": "01156840666497798230"
     },
     "user_tz": -300
    },
    "id": "ajtZ_ocfyiLD"
   },
   "outputs": [],
   "source": [
    "#MNIST dataset (images and labels)\n",
    "\n",
    "dataset = MNIST(root = 'data/',\n",
    "                train = True,\n",
    "                transform= transforms.ToTensor()\n",
    "                )"
   ]
  },
  {
   "cell_type": "code",
   "execution_count": 11,
   "metadata": {
    "colab": {
     "base_uri": "https://localhost:8080/"
    },
    "executionInfo": {
     "elapsed": 41,
     "status": "ok",
     "timestamp": 1707205871105,
     "user": {
      "displayName": "ASAD AYUB",
      "userId": "01156840666497798230"
     },
     "user_tz": -300
    },
    "id": "d3puXGX8yiOM",
    "outputId": "9f61dc9b-36d2-4de5-b4cd-55990a274256"
   },
   "outputs": [
    {
     "name": "stdout",
     "output_type": "stream",
     "text": [
      "torch.Size([1, 28, 28]) 5\n"
     ]
    }
   ],
   "source": [
    "img_tensor, label = dataset[0]\n",
    "print(img_tensor.shape, label)"
   ]
  },
  {
   "cell_type": "markdown",
   "metadata": {
    "id": "tkIb1uic3HNy"
   },
   "source": [
    "The image is now converted to a 1*28*28 tensor. The first dimension tracks color channels. The second and third dimensions represent pixels along height and width of the image, respectively. Since image in the MNIST dataset are garyscale, there's just one channel. Other datasets have images with color, in which case there are three channels: red, greenm and blue(RGB).\n",
    "Let's look at some sample values inside the tensors."
   ]
  },
  {
   "cell_type": "code",
   "execution_count": 12,
   "metadata": {
    "colab": {
     "base_uri": "https://localhost:8080/"
    },
    "executionInfo": {
     "elapsed": 39,
     "status": "ok",
     "timestamp": 1707205871105,
     "user": {
      "displayName": "ASAD AYUB",
      "userId": "01156840666497798230"
     },
     "user_tz": -300
    },
    "id": "zGN0oG2lyiRZ",
    "outputId": "8b21b23b-0594-4675-9df9-b91da6059f4e"
   },
   "outputs": [
    {
     "name": "stdout",
     "output_type": "stream",
     "text": [
      "tensor([[0.0039, 0.6039, 0.9922, 0.3529, 0.0000],\n",
      "        [0.0000, 0.5451, 0.9922, 0.7451, 0.0078],\n",
      "        [0.0000, 0.0431, 0.7451, 0.9922, 0.2745],\n",
      "        [0.0000, 0.0000, 0.1373, 0.9451, 0.8824],\n",
      "        [0.0000, 0.0000, 0.0000, 0.3176, 0.9412]])\n",
      "tensor(1.) tensor(0.)\n"
     ]
    }
   ],
   "source": [
    "print(img_tensor[0 ,10:15, 10:15])\n",
    "print(torch.max(img_tensor), torch.min(img_tensor))"
   ]
  },
  {
   "cell_type": "markdown",
   "metadata": {
    "id": "ENYhbFuV4vdb"
   },
   "source": [
    "The values range from `0` to `1`, with `0` representing black, `1` white, and the values in between differnt shades of grey. We can also plot the tensor as an image using `plt.imshow`."
   ]
  },
  {
   "cell_type": "code",
   "execution_count": 13,
   "metadata": {
    "colab": {
     "base_uri": "https://localhost:8080/",
     "height": 430
    },
    "executionInfo": {
     "elapsed": 37,
     "status": "ok",
     "timestamp": 1707205871106,
     "user": {
      "displayName": "ASAD AYUB",
      "userId": "01156840666497798230"
     },
     "user_tz": -300
    },
    "id": "-3cQ93QbyiUj",
    "outputId": "5ca5d45f-c8e3-480c-b490-2bd7ac4d685c"
   },
   "outputs": [
    {
     "data": {
      "image/png": "[encoded data removed]",
      "text/plain": [
       "<Figure size 640x480 with 1 Axes>"
      ]
     },
     "metadata": {},
     "output_type": "display_data"
    }
   ],
   "source": [
    "# Plot the image by passing in the 28 *28 matrix\n",
    "\n",
    "plt.imshow(img_tensor[0, 10:15, 10:15], cmap ='gray');"
   ]
  },
  {
   "cell_type": "markdown",
   "metadata": {
    "id": "y2V5goJo5qpv"
   },
   "source": [
    "Note that we need to pass just the 28x28 matrix to `plt.imshow`, without a channel dimension. We also pass a color map (`cmap=gray`) to indicate that we want to see a grayscale image."
   ]
  },
  {
   "cell_type": "markdown",
   "metadata": {
    "id": "5dJ_x3uk5w0x"
   },
   "source": [
    "## Training and Validation Datasets\n",
    "\n",
    "While building real-world machine learning models, it is quite common to split the dataset into three parts:\n",
    "\n",
    "1. **Training set** - used to train the model, i.e., compute the loss and adjust the model's weights using gradient descent.\n",
    "2. **Validation set** - used to evaluate the model during training, adjust hyperparameters (learning rate, etc.), and pick the best version of the model.\n",
    "3. **Test set** - used to compare different models or approaches and report the model's final accuracy.\n",
    "\n",
    "In the MNIST dataset, there are 60,000 training images and 10,000 test images. The test set is standardized so that different researchers can report their models' results against the same collection of images.\n",
    "\n",
    "Since there's no predefined validation set, we must manually split the 60,000 images into training and validation datasets. Let's set aside 10,000 randomly chosen images for validation. We can do this using the `random_spilt` method from PyTorch."
   ]
  },
  {
   "cell_type": "code",
   "execution_count": 14,
   "metadata": {
    "colab": {
     "base_uri": "https://localhost:8080/"
    },
    "executionInfo": {
     "elapsed": 36,
     "status": "ok",
     "timestamp": 1707205871106,
     "user": {
      "displayName": "ASAD AYUB",
      "userId": "01156840666497798230"
     },
     "user_tz": -300
    },
    "id": "-RZ04vaAyiYK",
    "outputId": "8d7dc703-0f76-4b90-d34f-54280225bf17"
   },
   "outputs": [
    {
     "data": {
      "text/plain": [
       "(50000, 10000)"
      ]
     },
     "execution_count": 14,
     "metadata": {},
     "output_type": "execute_result"
    }
   ],
   "source": [
    "from torch.utils.data import random_split\n",
    "\n",
    "train_ds, val_ds = random_split(dataset, [50000, 10000])\n",
    "len(train_ds), len(val_ds)"
   ]
  },
  {
   "cell_type": "markdown",
   "metadata": {
    "id": "gb4Bilys6NxO"
   },
   "source": [
    "It's essential to choose a random sample for creating a validation set. Training data is often sorted by the target labels, i.e., image of 0s, followed by 1s, followed by 2s etc. if we create a validation set using the last 20% of images, it would amke it impossible to train a useful model.\n",
    "\n",
    "We can now create data loaders to help us load the data in batches. We will use a batch size of 128."
   ]
  },
  {
   "cell_type": "code",
   "execution_count": 17,
   "metadata": {
    "executionInfo": {
     "elapsed": 672,
     "status": "ok",
     "timestamp": 1707205908728,
     "user": {
      "displayName": "ASAD AYUB",
      "userId": "01156840666497798230"
     },
     "user_tz": -300
    },
    "id": "8Zli5ewU5zkW"
   },
   "outputs": [],
   "source": [
    "from torch.utils.data import DataLoader\n",
    "\n",
    "batch_size = 128\n",
    "\n",
    "train_loader = DataLoader(train_ds, batch_size, shuffle = True)\n",
    "val_loader = DataLoader(val_ds, batch_size)"
   ]
  },
  {
   "cell_type": "markdown",
   "metadata": {
    "id": "l1V9rd2D7oOk"
   },
   "source": [
    "We set `shuffle=True` for the training data loader to ensure that the batches generated in each epoch are different. This randomization helps generalize & speed up the training process. On the other hand, since the validation data loader is used only for evaluating the model, there is no need to shuffle the images."
   ]
  },
  {
   "cell_type": "markdown",
   "metadata": {
    "id": "q1s1KPxC7uqB"
   },
   "source": [
    "## Model\n",
    "\n",
    "Now that we have prepared our data loaders, we can define our model.\n",
    "\n",
    "* A **logistic regression** model is almost identical to a linear regression model. It contains weights and bias matrices, and the output is obtained using simple matrix operations (`pred = x @ w.t() + b`).\n",
    "\n",
    "* As we did with linear regression, we can use `nn.Linear` to create the model instead of manually creating and initializing the matrices.\n",
    "\n",
    "* Since `nn.Linear` expects each training example to be a vector, each `1x28x28` image tensor is _flattened_ into a vector of size 784 `(28*28)` before being passed into the model.\n",
    "\n",
    "* The output for each image is a vector of size 10, with each element signifying the probability of a particular target label (i.e., 0 to 9). The predicted label for an image is simply the one with the highest probability."
   ]
  },
  {
   "cell_type": "code",
   "execution_count": 18,
   "metadata": {
    "executionInfo": {
     "elapsed": 393,
     "status": "ok",
     "timestamp": 1707205923217,
     "user": {
      "displayName": "ASAD AYUB",
      "userId": "01156840666497798230"
     },
     "user_tz": -300
    },
    "id": "8RWR46Pm5znE"
   },
   "outputs": [],
   "source": [
    "import torch.nn as nn\n",
    "\n",
    "input_size = 28*28\n",
    "num_classes = 10\n",
    "\n",
    "# Logistic regression model\n",
    "\n",
    "model = nn.Linear(input_size, num_classes)"
   ]
  },
  {
   "cell_type": "markdown",
   "metadata": {
    "id": "GoNTLYjT8IOy"
   },
   "source": [
    "Now, let's take a look at the weights and baises of the model"
   ]
  },
  {
   "cell_type": "code",
   "execution_count": 19,
   "metadata": {
    "colab": {
     "base_uri": "https://localhost:8080/"
    },
    "executionInfo": {
     "elapsed": 10,
     "status": "ok",
     "timestamp": 1707205923627,
     "user": {
      "displayName": "ASAD AYUB",
      "userId": "01156840666497798230"
     },
     "user_tz": -300
    },
    "id": "SnXMb2uN5zpj",
    "outputId": "c74ef5db-8763-4f17-98ee-a0bfa8f5129b"
   },
   "outputs": [
    {
     "name": "stdout",
     "output_type": "stream",
     "text": [
      "torch.Size([10, 784])\n"
     ]
    },
    {
     "data": {
      "text/plain": [
       "Parameter containing:\n",
       "tensor([[ 0.0051, -0.0046, -0.0268,  ...,  0.0143,  0.0092, -0.0133],\n",
       "        [ 0.0207,  0.0102, -0.0179,  ..., -0.0187, -0.0027, -0.0171],\n",
       "        [-0.0041,  0.0212,  0.0031,  ..., -0.0278,  0.0149,  0.0014],\n",
       "        ...,\n",
       "        [-0.0109, -0.0335,  0.0326,  ...,  0.0066,  0.0269,  0.0150],\n",
       "        [-0.0341, -0.0080,  0.0088,  ...,  0.0122, -0.0038, -0.0142],\n",
       "        [-0.0005, -0.0028,  0.0173,  ...,  0.0064,  0.0123, -0.0041]],\n",
       "       requires_grad=True)"
      ]
     },
     "execution_count": 19,
     "metadata": {},
     "output_type": "execute_result"
    }
   ],
   "source": [
    "print(model.weight.shape)\n",
    "model.weight"
   ]
  },
  {
   "cell_type": "code",
   "execution_count": 20,
   "metadata": {
    "colab": {
     "base_uri": "https://localhost:8080/"
    },
    "executionInfo": {
     "elapsed": 7,
     "status": "ok",
     "timestamp": 1707205923627,
     "user": {
      "displayName": "ASAD AYUB",
      "userId": "01156840666497798230"
     },
     "user_tz": -300
    },
    "id": "yNkBv86a5zsX",
    "outputId": "a2b81b72-a28f-4d98-f5c0-4dab9d6d2ab2"
   },
   "outputs": [
    {
     "name": "stdout",
     "output_type": "stream",
     "text": [
      "torch.Size([10])\n"
     ]
    },
    {
     "data": {
      "text/plain": [
       "Parameter containing:\n",
       "tensor([ 2.3273e-02, -2.1834e-03,  3.1606e-02,  4.8309e-03,  2.9457e-02,\n",
       "        -1.6017e-02, -2.0808e-03,  8.8675e-05, -3.1551e-03,  1.8793e-02],\n",
       "       requires_grad=True)"
      ]
     },
     "execution_count": 20,
     "metadata": {},
     "output_type": "execute_result"
    }
   ],
   "source": [
    "print(model.bias.shape)\n",
    "model.bias"
   ]
  },
  {
   "cell_type": "markdown",
   "metadata": {
    "id": "Z7uiHj5G8out"
   },
   "source": [
    "Although there are a total of 7850 parameters here, conceptually, nothing has change so far. Let' try and  generate some outputs using our model. we will take the first batch of 100 images from our dataset and pass them into our model."
   ]
  },
  {
   "cell_type": "code",
   "execution_count": 23,
   "metadata": {
    "colab": {
     "base_uri": "https://localhost:8080/",
     "height": 533
    },
    "executionInfo": {
     "elapsed": 10,
     "status": "error",
     "timestamp": 1707205945752,
     "user": {
      "displayName": "ASAD AYUB",
      "userId": "01156840666497798230"
     },
     "user_tz": -300
    },
    "id": "BO7PqzAJ5zvN",
    "outputId": "aa956664-a0e6-43a3-c766-9b6fdc88b8ef"
   },
   "outputs": [
    {
     "name": "stdout",
     "output_type": "stream",
     "text": [
      "tensor([3, 3, 1, 5, 1, 7, 3, 9, 7, 1, 4, 5, 9, 7, 0, 7, 3, 5, 6, 1, 8, 3, 2, 3,\n",
      "        4, 0, 0, 1, 6, 1, 2, 9, 4, 4, 8, 7, 1, 0, 3, 4, 0, 1, 7, 7, 2, 3, 0, 3,\n",
      "        3, 4, 9, 3, 0, 7, 7, 5, 7, 1, 4, 3, 8, 2, 2, 9, 3, 1, 8, 5, 9, 1, 7, 0,\n",
      "        1, 2, 8, 2, 3, 7, 3, 3, 5, 1, 3, 9, 8, 7, 6, 7, 8, 7, 1, 4, 4, 9, 3, 7,\n",
      "        8, 7, 9, 8, 6, 7, 2, 2, 9, 8, 3, 2, 2, 0, 9, 3, 3, 1, 9, 5, 0, 5, 0, 0,\n",
      "        9, 3, 1, 7, 4, 6, 1, 3])\n",
      "torch.Size([128, 1, 28, 28])\n"
     ]
    },
    {
     "ename": "RuntimeError",
     "evalue": "mat1 and mat2 shapes cannot be multiplied (3584x28 and 784x10)",
     "output_type": "error",
     "traceback": [
      "\u001b[0;31m---------------------------------------------------------------------------\u001b[0m",
      "\u001b[0;31mRuntimeError\u001b[0m                              Traceback (most recent call last)",
      "\u001b[0;32m<ipython-input-23-5ece45fcfb37>\u001b[0m in \u001b[0;36m<cell line: 1>\u001b[0;34m()\u001b[0m\n\u001b[1;32m      2\u001b[0m   \u001b[0mprint\u001b[0m\u001b[0;34m(\u001b[0m\u001b[0mlabels\u001b[0m\u001b[0;34m)\u001b[0m\u001b[0;34m\u001b[0m\u001b[0;34m\u001b[0m\u001b[0m\n\u001b[1;32m      3\u001b[0m   \u001b[0mprint\u001b[0m\u001b[0;34m(\u001b[0m\u001b[0mimages\u001b[0m\u001b[0;34m.\u001b[0m\u001b[0mshape\u001b[0m\u001b[0;34m)\u001b[0m\u001b[0;34m\u001b[0m\u001b[0;34m\u001b[0m\u001b[0m\n\u001b[0;32m----> 4\u001b[0;31m   \u001b[0moutputs\u001b[0m \u001b[0;34m=\u001b[0m \u001b[0mmodel\u001b[0m\u001b[0;34m(\u001b[0m\u001b[0mimages\u001b[0m\u001b[0;34m)\u001b[0m\u001b[0;34m\u001b[0m\u001b[0;34m\u001b[0m\u001b[0m\n\u001b[0m\u001b[1;32m      5\u001b[0m   \u001b[0mprint\u001b[0m\u001b[0;34m(\u001b[0m\u001b[0moutputs\u001b[0m\u001b[0;34m)\u001b[0m\u001b[0;34m\u001b[0m\u001b[0;34m\u001b[0m\u001b[0m\n\u001b[1;32m      6\u001b[0m   \u001b[0;32mbreak\u001b[0m\u001b[0;34m\u001b[0m\u001b[0;34m\u001b[0m\u001b[0m\n",
      "\u001b[0;32m/usr/local/lib/python3.10/dist-packages/torch/nn/modules/module.py\u001b[0m in \u001b[0;36m_wrapped_call_impl\u001b[0;34m(self, *args, **kwargs)\u001b[0m\n\u001b[1;32m   1516\u001b[0m             \u001b[0;32mreturn\u001b[0m \u001b[0mself\u001b[0m\u001b[0;34m.\u001b[0m\u001b[0m_compiled_call_impl\u001b[0m\u001b[0;34m(\u001b[0m\u001b[0;34m*\u001b[0m\u001b[0margs\u001b[0m\u001b[0;34m,\u001b[0m \u001b[0;34m**\u001b[0m\u001b[0mkwargs\u001b[0m\u001b[0;34m)\u001b[0m  \u001b[0;31m# type: ignore[misc]\u001b[0m\u001b[0;34m\u001b[0m\u001b[0;34m\u001b[0m\u001b[0m\n\u001b[1;32m   1517\u001b[0m         \u001b[0;32melse\u001b[0m\u001b[0;34m:\u001b[0m\u001b[0;34m\u001b[0m\u001b[0;34m\u001b[0m\u001b[0m\n\u001b[0;32m-> 1518\u001b[0;31m             \u001b[0;32mreturn\u001b[0m \u001b[0mself\u001b[0m\u001b[0;34m.\u001b[0m\u001b[0m_call_impl\u001b[0m\u001b[0;34m(\u001b[0m\u001b[0;34m*\u001b[0m\u001b[0margs\u001b[0m\u001b[0;34m,\u001b[0m \u001b[0;34m**\u001b[0m\u001b[0mkwargs\u001b[0m\u001b[0;34m)\u001b[0m\u001b[0;34m\u001b[0m\u001b[0;34m\u001b[0m\u001b[0m\n\u001b[0m\u001b[1;32m   1519\u001b[0m \u001b[0;34m\u001b[0m\u001b[0m\n\u001b[1;32m   1520\u001b[0m     \u001b[0;32mdef\u001b[0m \u001b[0m_call_impl\u001b[0m\u001b[0;34m(\u001b[0m\u001b[0mself\u001b[0m\u001b[0;34m,\u001b[0m \u001b[0;34m*\u001b[0m\u001b[0margs\u001b[0m\u001b[0;34m,\u001b[0m \u001b[0;34m**\u001b[0m\u001b[0mkwargs\u001b[0m\u001b[0;34m)\u001b[0m\u001b[0;34m:\u001b[0m\u001b[0;34m\u001b[0m\u001b[0;34m\u001b[0m\u001b[0m\n",
      "\u001b[0;32m/usr/local/lib/python3.10/dist-packages/torch/nn/modules/module.py\u001b[0m in \u001b[0;36m_call_impl\u001b[0;34m(self, *args, **kwargs)\u001b[0m\n\u001b[1;32m   1525\u001b[0m                 \u001b[0;32mor\u001b[0m \u001b[0m_global_backward_pre_hooks\u001b[0m \u001b[0;32mor\u001b[0m \u001b[0m_global_backward_hooks\u001b[0m\u001b[0;34m\u001b[0m\u001b[0;34m\u001b[0m\u001b[0m\n\u001b[1;32m   1526\u001b[0m                 or _global_forward_hooks or _global_forward_pre_hooks):\n\u001b[0;32m-> 1527\u001b[0;31m             \u001b[0;32mreturn\u001b[0m \u001b[0mforward_call\u001b[0m\u001b[0;34m(\u001b[0m\u001b[0;34m*\u001b[0m\u001b[0margs\u001b[0m\u001b[0;34m,\u001b[0m \u001b[0;34m**\u001b[0m\u001b[0mkwargs\u001b[0m\u001b[0;34m)\u001b[0m\u001b[0;34m\u001b[0m\u001b[0;34m\u001b[0m\u001b[0m\n\u001b[0m\u001b[1;32m   1528\u001b[0m \u001b[0;34m\u001b[0m\u001b[0m\n\u001b[1;32m   1529\u001b[0m         \u001b[0;32mtry\u001b[0m\u001b[0;34m:\u001b[0m\u001b[0;34m\u001b[0m\u001b[0;34m\u001b[0m\u001b[0m\n",
      "\u001b[0;32m/usr/local/lib/python3.10/dist-packages/torch/nn/modules/linear.py\u001b[0m in \u001b[0;36mforward\u001b[0;34m(self, input)\u001b[0m\n\u001b[1;32m    112\u001b[0m \u001b[0;34m\u001b[0m\u001b[0m\n\u001b[1;32m    113\u001b[0m     \u001b[0;32mdef\u001b[0m \u001b[0mforward\u001b[0m\u001b[0;34m(\u001b[0m\u001b[0mself\u001b[0m\u001b[0;34m,\u001b[0m \u001b[0minput\u001b[0m\u001b[0;34m:\u001b[0m \u001b[0mTensor\u001b[0m\u001b[0;34m)\u001b[0m \u001b[0;34m->\u001b[0m \u001b[0mTensor\u001b[0m\u001b[0;34m:\u001b[0m\u001b[0;34m\u001b[0m\u001b[0;34m\u001b[0m\u001b[0m\n\u001b[0;32m--> 114\u001b[0;31m         \u001b[0;32mreturn\u001b[0m \u001b[0mF\u001b[0m\u001b[0;34m.\u001b[0m\u001b[0mlinear\u001b[0m\u001b[0;34m(\u001b[0m\u001b[0minput\u001b[0m\u001b[0;34m,\u001b[0m \u001b[0mself\u001b[0m\u001b[0;34m.\u001b[0m\u001b[0mweight\u001b[0m\u001b[0;34m,\u001b[0m \u001b[0mself\u001b[0m\u001b[0;34m.\u001b[0m\u001b[0mbias\u001b[0m\u001b[0;34m)\u001b[0m\u001b[0;34m\u001b[0m\u001b[0;34m\u001b[0m\u001b[0m\n\u001b[0m\u001b[1;32m    115\u001b[0m \u001b[0;34m\u001b[0m\u001b[0m\n\u001b[1;32m    116\u001b[0m     \u001b[0;32mdef\u001b[0m \u001b[0mextra_repr\u001b[0m\u001b[0;34m(\u001b[0m\u001b[0mself\u001b[0m\u001b[0;34m)\u001b[0m \u001b[0;34m->\u001b[0m \u001b[0mstr\u001b[0m\u001b[0;34m:\u001b[0m\u001b[0;34m\u001b[0m\u001b[0;34m\u001b[0m\u001b[0m\n",
      "\u001b[0;31mRuntimeError\u001b[0m: mat1 and mat2 shapes cannot be multiplied (3584x28 and 784x10)"
     ]
    }
   ],
   "source": [
    "for images, labels in train_loader:\n",
    "  print(labels)\n",
    "  print(images.shape)\n",
    "  outputs = model(images)\n",
    "  print(outputs)\n",
    "  break"
   ]
  },
  {
   "cell_type": "code",
   "execution_count": 24,
   "metadata": {
    "colab": {
     "base_uri": "https://localhost:8080/"
    },
    "executionInfo": {
     "elapsed": 4,
     "status": "ok",
     "timestamp": 1707205949701,
     "user": {
      "displayName": "ASAD AYUB",
      "userId": "01156840666497798230"
     },
     "user_tz": -300
    },
    "id": "8bInkJEN5zx9",
    "outputId": "34c11218-1b97-4e2f-d598-17ed8f6ded7e"
   },
   "outputs": [
    {
     "data": {
      "text/plain": [
       "torch.Size([128, 1, 28, 28])"
      ]
     },
     "execution_count": 24,
     "metadata": {},
     "output_type": "execute_result"
    }
   ],
   "source": [
    "images.shape"
   ]
  },
  {
   "cell_type": "code",
   "execution_count": 25,
   "metadata": {
    "colab": {
     "base_uri": "https://localhost:8080/"
    },
    "executionInfo": {
     "elapsed": 613,
     "status": "ok",
     "timestamp": 1707205953391,
     "user": {
      "displayName": "ASAD AYUB",
      "userId": "01156840666497798230"
     },
     "user_tz": -300
    },
    "id": "q0stl52J5z08",
    "outputId": "184db48d-c8ab-4783-c513-f48fe0a63125"
   },
   "outputs": [
    {
     "data": {
      "text/plain": [
       "torch.Size([128, 784])"
      ]
     },
     "execution_count": 25,
     "metadata": {},
     "output_type": "execute_result"
    }
   ],
   "source": [
    "images.reshape(128,784).shape"
   ]
  },
  {
   "cell_type": "markdown",
   "metadata": {
    "id": "GDh2oVYN92mn"
   },
   "source": [
    "The code above leads to an error because our input data does not have the right shape. our images are of shape 1x28x28, but we need them to be vector of size 784.i.e., we need to flatten them. We will use the `.reshape` method of a tensor, which will allow us to efficiently 'view' each image as a flat vector without really creating a copy of the uderlying data. To include this additional functionality within our model, we need to define a custom model by extending the `nn.Modul` class from PyTorch."
   ]
  },
  {
   "cell_type": "code",
   "execution_count": 26,
   "metadata": {
    "executionInfo": {
     "elapsed": 7,
     "status": "ok",
     "timestamp": 1707205954859,
     "user": {
      "displayName": "ASAD AYUB",
      "userId": "01156840666497798230"
     },
     "user_tz": -300
    },
    "id": "PfRHzugi5z4A"
   },
   "outputs": [],
   "source": [
    "class MnistModel(nn.Module):\n",
    "    def __init__(self):\n",
    "        super().__init__()\n",
    "        self.linear = nn.Linear(input_size, num_classes)\n",
    "\n",
    "    def forward(self, xb):\n",
    "        xb = xb.reshape(-1, 784)\n",
    "        out = self.linear(xb)\n",
    "        return out\n",
    "\n",
    "model = MnistModel()"
   ]
  },
  {
   "cell_type": "markdown",
   "metadata": {
    "id": "Lx_7VNyUAD3S"
   },
   "source": [
    "Inside the `__init__` constructor method, we instentiate the weights and biases using `nn.Linear`. And inside the `forward`method, which is invoked when we pass a batch of inputs to the model, we flatten the inputs tensor and pass into `self.linear`.\n",
    "\n",
    "`xb.reshape(-1, 28*28)` indicates to PyTorch that we want a view of the `xb` tensor with two dimensions. The length along the 2nd dimension is  28*28 (i.e., 784). One argument to .reshape can be set to -1 (in this case, the first dimension) to let PyTorch figure it out automatically based on the shape of the original tensor.\n",
    "\n",
    "Note that the model no longer has .weight and .bias attributes (as they are now inside the .linear attribute), but it does have a .parameters method that returns a list containing the weights and bias."
   ]
  },
  {
   "cell_type": "code",
   "execution_count": 29,
   "metadata": {
    "colab": {
     "base_uri": "https://localhost:8080/"
    },
    "executionInfo": {
     "elapsed": 8,
     "status": "ok",
     "timestamp": 1707205962440,
     "user": {
      "displayName": "ASAD AYUB",
      "userId": "01156840666497798230"
     },
     "user_tz": -300
    },
    "id": "GOv9_jfA5z7D",
    "outputId": "568e0ee9-5454-466d-9fa5-202443ff9bd4"
   },
   "outputs": [
    {
     "data": {
      "text/plain": [
       "Linear(in_features=784, out_features=10, bias=True)"
      ]
     },
     "execution_count": 29,
     "metadata": {},
     "output_type": "execute_result"
    }
   ],
   "source": [
    "model.linear"
   ]
  },
  {
   "cell_type": "code",
   "execution_count": 28,
   "metadata": {
    "colab": {
     "base_uri": "https://localhost:8080/"
    },
    "executionInfo": {
     "elapsed": 13,
     "status": "ok",
     "timestamp": 1707205960755,
     "user": {
      "displayName": "ASAD AYUB",
      "userId": "01156840666497798230"
     },
     "user_tz": -300
    },
    "id": "FXbZ-2dj5z-N",
    "outputId": "c50057de-532f-4aa1-e884-8e26d9781ecf"
   },
   "outputs": [
    {
     "name": "stdout",
     "output_type": "stream",
     "text": [
      "torch.Size([10, 784]) torch.Size([10])\n"
     ]
    },
    {
     "data": {
      "text/plain": [
       "[Parameter containing:\n",
       " tensor([[-0.0280,  0.0274, -0.0291,  ...,  0.0212, -0.0019,  0.0212],\n",
       "         [ 0.0144,  0.0332,  0.0159,  ...,  0.0192,  0.0238, -0.0315],\n",
       "         [-0.0095,  0.0276, -0.0303,  ..., -0.0050, -0.0320,  0.0111],\n",
       "         ...,\n",
       "         [ 0.0091, -0.0272,  0.0268,  ..., -0.0169,  0.0124,  0.0221],\n",
       "         [ 0.0234, -0.0079, -0.0065,  ...,  0.0144,  0.0048,  0.0016],\n",
       "         [ 0.0145, -0.0057, -0.0284,  ...,  0.0060,  0.0016, -0.0224]],\n",
       "        requires_grad=True),\n",
       " Parameter containing:\n",
       " tensor([ 0.0144, -0.0353,  0.0054, -0.0069, -0.0327,  0.0128,  0.0217,  0.0167,\n",
       "         -0.0134, -0.0178], requires_grad=True)]"
      ]
     },
     "execution_count": 28,
     "metadata": {},
     "output_type": "execute_result"
    }
   ],
   "source": [
    "print(model.linear.weight.shape, model.linear.bias.shape)\n",
    "list(model.parameters())"
   ]
  },
  {
   "cell_type": "markdown",
   "metadata": {
    "id": "e8jIqRC7B-G-"
   },
   "source": [
    "Now, We can use our new custom model in the same way as before,"
   ]
  },
  {
   "cell_type": "code",
   "execution_count": 30,
   "metadata": {
    "colab": {
     "base_uri": "https://localhost:8080/"
    },
    "executionInfo": {
     "elapsed": 398,
     "status": "ok",
     "timestamp": 1707205967319,
     "user": {
      "displayName": "ASAD AYUB",
      "userId": "01156840666497798230"
     },
     "user_tz": -300
    },
    "id": "nSGg6KCf50Bd",
    "outputId": "5f5b0eb1-05d8-4c87-ba67-e9fb2bdba34a"
   },
   "outputs": [
    {
     "name": "stdout",
     "output_type": "stream",
     "text": [
      "torch.Size([128, 1, 28, 28])\n",
      "Outputs.Shape :  torch.Size([128, 10])\n",
      "Sample outputs : \n",
      " tensor([[ 0.2753,  0.0756, -0.1688, -0.1660,  0.0169,  0.1621,  0.0004,  0.2223,\n",
      "          0.2623,  0.2275],\n",
      "        [-0.0709, -0.2091,  0.0669,  0.1171, -0.0455,  0.0345,  0.0397,  0.2404,\n",
      "          0.0391, -0.1422]])\n"
     ]
    }
   ],
   "source": [
    "for images, labels in train_loader:\n",
    "  print(images.shape)\n",
    "  outputs = model(images)\n",
    "  break\n",
    "\n",
    "print('Outputs.Shape : ',  outputs.shape)\n",
    "print('Sample outputs : \\n', outputs[:2].data)"
   ]
  },
  {
   "cell_type": "markdown",
   "metadata": {
    "id": "-aUEninHCxHQ"
   },
   "source": [
    "For each of the 100 input images, we get 10 outputs, one for each class. As discussed earlier, we'd like these outputs to represent probabilities. Each output row's elements must lie between 0 to 1 and add up to 1, which is not the case.\n",
    "\n",
    "To convert the output rows into probabilities, we use the softmax function, which has the following formula:\n",
    "\n",
    "![softmax](https://i.imgur.com/EAh9jLN.png)\n",
    "\n",
    "First, we replace each element `yi` in an output row by `e^yi`, making all the elements positive.\n",
    "\n",
    "![](https://www.montereyinstitute.org/courses/DevelopmentalMath/COURSE_TEXT2_RESOURCE/U18_L1_T1_text_final_6_files/image001.png)\n",
    "\n",
    "\n",
    "\n",
    "Then, we divide them by their sum to ensure that they add up to 1. The resulting vector can thus be interpreted as probabilities.\n",
    "\n",
    "While it's easy to implement the softmax function (you should try it!), we'll use the implementation that's provided within PyTorch because it works well with multidimensional tensors (a list of output rows in our case)."
   ]
  },
  {
   "cell_type": "code",
   "execution_count": 31,
   "metadata": {
    "executionInfo": {
     "elapsed": 487,
     "status": "ok",
     "timestamp": 1707205972024,
     "user": {
      "displayName": "ASAD AYUB",
      "userId": "01156840666497798230"
     },
     "user_tz": -300
    },
    "id": "jm8WadQP50Eq"
   },
   "outputs": [],
   "source": [
    "import torch.nn.functional as F"
   ]
  },
  {
   "cell_type": "markdown",
   "metadata": {
    "id": "gWzxX7LnC5_T"
   },
   "source": [
    "The softmax function is included in the `torch.nn.functional` package and requires us to specify a dimension along which the function should be applied."
   ]
  },
  {
   "cell_type": "code",
   "execution_count": 32,
   "metadata": {
    "colab": {
     "base_uri": "https://localhost:8080/"
    },
    "executionInfo": {
     "elapsed": 7,
     "status": "ok",
     "timestamp": 1707205973289,
     "user": {
      "displayName": "ASAD AYUB",
      "userId": "01156840666497798230"
     },
     "user_tz": -300
    },
    "id": "YkgEHBTR50H9",
    "outputId": "de899836-ee5a-4da0-ad9c-3fc956946417"
   },
   "outputs": [
    {
     "name": "stdout",
     "output_type": "stream",
     "text": [
      "Sample Probilities: \n",
      " tensor([[0.1188, 0.0973, 0.0762, 0.0764, 0.0918, 0.1061, 0.0902, 0.1127, 0.1173,\n",
      "         0.1133],\n",
      "        [0.0918, 0.0800, 0.1054, 0.1108, 0.0942, 0.1020, 0.1025, 0.1253, 0.1025,\n",
      "         0.0855]])\n",
      "Sum:  1.0\n"
     ]
    }
   ],
   "source": [
    "# Aply softmax for each output row\n",
    "\n",
    "probs = F.softmax(outputs, dim= 1)\n",
    "\n",
    "# Sample probabilities\n",
    "\n",
    "print('Sample Probilities: \\n', probs[:2].data)\n",
    "\n",
    "# Add up the probabilities of an output row\n",
    "\n",
    "print('Sum: ', torch.sum(probs[0]).item())"
   ]
  },
  {
   "cell_type": "markdown",
   "metadata": {
    "id": "7YfeF-XVD4qu"
   },
   "source": [
    "Finally, we can determine the predicted label for each image by simply choosing the index of the element with the highest probability in each output row. We can do this using `torch.max`, which returns each row's largest element and the corresponding index."
   ]
  },
  {
   "cell_type": "code",
   "execution_count": 33,
   "metadata": {
    "colab": {
     "base_uri": "https://localhost:8080/"
    },
    "executionInfo": {
     "elapsed": 4,
     "status": "ok",
     "timestamp": 1707205977067,
     "user": {
      "displayName": "ASAD AYUB",
      "userId": "01156840666497798230"
     },
     "user_tz": -300
    },
    "id": "-IrYiluz50LU",
    "outputId": "9bdaf366-ea7d-4cd9-e983-62ae3870fb75"
   },
   "outputs": [
    {
     "name": "stdout",
     "output_type": "stream",
     "text": [
      "tensor([0, 7, 7, 7, 7, 6, 7, 0, 6, 7, 9, 6, 7, 7, 7, 7, 7, 7, 7, 7, 7, 7, 6, 7,\n",
      "        7, 6, 7, 6, 7, 2, 7, 7, 0, 7, 7, 7, 7, 7, 1, 7, 7, 7, 7, 7, 7, 0, 7, 7,\n",
      "        7, 0, 7, 7, 7, 7, 7, 7, 0, 7, 7, 7, 6, 7, 7, 7, 7, 7, 8, 7, 7, 6, 7, 7,\n",
      "        7, 7, 0, 7, 7, 0, 7, 7, 0, 5, 1, 7, 7, 4, 6, 0, 7, 7, 7, 7, 7, 7, 7, 7,\n",
      "        7, 7, 7, 7, 1, 7, 0, 7, 7, 7, 7, 7, 0, 7, 4, 7, 7, 1, 7, 7, 7, 7, 1, 7,\n",
      "        1, 7, 6, 7, 6, 7, 7, 6])\n",
      "tensor([0.1188, 0.1253, 0.1571, 0.1231, 0.1528, 0.1266, 0.1361, 0.1261, 0.1680,\n",
      "        0.1179, 0.1292, 0.1399, 0.1373, 0.1542, 0.1689, 0.1220, 0.1491, 0.1348,\n",
      "        0.1454, 0.1487, 0.1512, 0.1392, 0.1262, 0.1264, 0.1634, 0.1274, 0.1465,\n",
      "        0.1174, 0.1444, 0.1413, 0.1170, 0.1401, 0.1367, 0.1441, 0.1264, 0.1643,\n",
      "        0.1301, 0.1481, 0.1304, 0.1350, 0.1536, 0.1302, 0.1562, 0.1388, 0.1392,\n",
      "        0.1226, 0.1562, 0.1446, 0.1208, 0.1214, 0.1208, 0.1286, 0.1235, 0.1309,\n",
      "        0.1447, 0.1254, 0.1284, 0.1460, 0.1287, 0.1895, 0.1196, 0.1548, 0.1502,\n",
      "        0.1819, 0.1577, 0.1379, 0.1237, 0.1289, 0.1510, 0.1373, 0.1351, 0.1401,\n",
      "        0.1461, 0.1278, 0.1181, 0.1367, 0.1599, 0.1212, 0.1294, 0.1371, 0.1260,\n",
      "        0.1319, 0.1486, 0.1461, 0.1360, 0.1540, 0.1204, 0.1329, 0.1350, 0.1223,\n",
      "        0.1325, 0.1437, 0.1300, 0.1337, 0.1480, 0.1574, 0.1471, 0.1231, 0.1489,\n",
      "        0.1458, 0.1290, 0.1576, 0.1387, 0.1442, 0.1508, 0.1713, 0.1306, 0.1332,\n",
      "        0.1362, 0.1388, 0.1345, 0.1705, 0.1387, 0.1531, 0.1575, 0.1508, 0.1705,\n",
      "        0.1483, 0.1272, 0.1300, 0.1507, 0.1572, 0.1309, 0.1729, 0.1157, 0.1474,\n",
      "        0.1559, 0.1263], grad_fn=<MaxBackward0>)\n"
     ]
    }
   ],
   "source": [
    "max_probs, preds = torch.max(probs, dim=1)\n",
    "print(preds)\n",
    "print(max_probs)"
   ]
  },
  {
   "cell_type": "markdown",
   "metadata": {
    "id": "LnRmv-qsD9Hf"
   },
   "source": [
    "The numbers printed above are the predicted labels for the first batch of training images. Let's compare them with the actual labels."
   ]
  },
  {
   "cell_type": "code",
   "execution_count": 34,
   "metadata": {
    "colab": {
     "base_uri": "https://localhost:8080/"
    },
    "executionInfo": {
     "elapsed": 417,
     "status": "ok",
     "timestamp": 1707205983213,
     "user": {
      "displayName": "ASAD AYUB",
      "userId": "01156840666497798230"
     },
     "user_tz": -300
    },
    "id": "XgCPQ3wk50Of",
    "outputId": "74cf3d2c-fb74-4c24-c3cc-dc932efe5d18"
   },
   "outputs": [
    {
     "data": {
      "text/plain": [
       "tensor([0, 7, 1, 7, 9, 2, 1, 7, 7, 1, 8, 3, 2, 2, 5, 1, 6, 1, 8, 2, 4, 1, 0, 5,\n",
       "        4, 3, 6, 2, 1, 4, 9, 8, 9, 9, 2, 8, 9, 6, 3, 9, 5, 5, 3, 9, 0, 4, 2, 6,\n",
       "        6, 5, 2, 3, 1, 0, 1, 7, 7, 9, 5, 6, 7, 1, 4, 6, 4, 7, 0, 9, 6, 7, 8, 2,\n",
       "        0, 9, 7, 4, 9, 3, 1, 9, 7, 5, 7, 4, 6, 8, 4, 9, 2, 4, 2, 7, 9, 8, 6, 9,\n",
       "        2, 2, 1, 9, 7, 8, 3, 3, 3, 3, 7, 2, 8, 4, 0, 4, 5, 7, 2, 2, 1, 1, 9, 7,\n",
       "        7, 1, 7, 2, 4, 1, 8, 5])"
      ]
     },
     "execution_count": 34,
     "metadata": {},
     "output_type": "execute_result"
    }
   ],
   "source": [
    "labels"
   ]
  },
  {
   "cell_type": "markdown",
   "metadata": {
    "id": "We1gkAUVEBD-"
   },
   "source": [
    "Most of the predicted labels are different from the actual labels. That's because we have started with randomly initialized weights and biases. We need to train the model, i.e., adjust the weights using gradient descent to make better predictions."
   ]
  },
  {
   "cell_type": "markdown",
   "metadata": {
    "id": "ToaBBCvbEDvp"
   },
   "source": [
    "## Evaluation Metric and Loss Function"
   ]
  },
  {
   "cell_type": "markdown",
   "metadata": {
    "id": "d_0Gj_FjEMub"
   },
   "source": [
    "Just as with linear regression, we need a way to evaluate how well our model is performing. A natural way to do this would be to find the percentage of labels that were predicted correctly, i.e,. the **accuracy** of the predictions."
   ]
  },
  {
   "cell_type": "code",
   "execution_count": 35,
   "metadata": {
    "colab": {
     "base_uri": "https://localhost:8080/"
    },
    "executionInfo": {
     "elapsed": 633,
     "status": "ok",
     "timestamp": 1707205987530,
     "user": {
      "displayName": "ASAD AYUB",
      "userId": "01156840666497798230"
     },
     "user_tz": -300
    },
    "id": "EvVx82-950R0",
    "outputId": "33141ec9-955f-4538-dcfc-6b8fdc2ecde0"
   },
   "outputs": [
    {
     "data": {
      "text/plain": [
       "tensor([[ 0.2753,  0.0756, -0.1688, -0.1660,  0.0169,  0.1621,  0.0004,  0.2223,\n",
       "          0.2623,  0.2275],\n",
       "        [-0.0709, -0.2091,  0.0669,  0.1171, -0.0455,  0.0345,  0.0397,  0.2404,\n",
       "          0.0391, -0.1422]], grad_fn=<SliceBackward0>)"
      ]
     },
     "execution_count": 35,
     "metadata": {},
     "output_type": "execute_result"
    }
   ],
   "source": [
    "outputs[:2]"
   ]
  },
  {
   "cell_type": "code",
   "execution_count": 36,
   "metadata": {
    "colab": {
     "base_uri": "https://localhost:8080/"
    },
    "executionInfo": {
     "elapsed": 11,
     "status": "ok",
     "timestamp": 1707205987530,
     "user": {
      "displayName": "ASAD AYUB",
      "userId": "01156840666497798230"
     },
     "user_tz": -300
    },
    "id": "Q9VIKr4350U6",
    "outputId": "8423a3fc-be72-4026-fef1-bd1361c6b574"
   },
   "outputs": [
    {
     "data": {
      "text/plain": [
       "tensor(9)"
      ]
     },
     "execution_count": 36,
     "metadata": {},
     "output_type": "execute_result"
    }
   ],
   "source": [
    "torch.sum(preds == labels)"
   ]
  },
  {
   "cell_type": "code",
   "execution_count": 37,
   "metadata": {
    "executionInfo": {
     "elapsed": 9,
     "status": "ok",
     "timestamp": 1707205987530,
     "user": {
      "displayName": "ASAD AYUB",
      "userId": "01156840666497798230"
     },
     "user_tz": -300
    },
    "id": "yigMjLNr50YF"
   },
   "outputs": [],
   "source": [
    "def accuracy(outputs, labels):\n",
    "  _, preds = torch.max(outputs, dim = 1)\n",
    "  return torch.tensor(torch.sum(preds == labels).item() / len(preds))"
   ]
  },
  {
   "cell_type": "markdown",
   "metadata": {
    "id": "Z34zQFN5F09C"
   },
   "source": [
    "The `==` operator performs an element-wise comparison of two tensors with the same shape and returns a tensor of the same shape, containing `True` for unequal elements and `False` for equal elements. Passing the result to `torch.sum` returns the number of labels that were predicted correctly. Finally, we divide by the total number of images to get the accuracy.\n",
    "\n",
    "Note that we don't need to apply softmax to the outputs since its results have the same relative order. This is because `e^x` is an increasing function, i.e., if `y1 > y2`, then `e^y1 > e^y2`. The same holds after averaging out the values to get the softmax.\n",
    "\n",
    "Let's calculate the accuracy of the current model on the first batch of data."
   ]
  },
  {
   "cell_type": "code",
   "execution_count": 38,
   "metadata": {
    "colab": {
     "base_uri": "https://localhost:8080/"
    },
    "executionInfo": {
     "elapsed": 8,
     "status": "ok",
     "timestamp": 1707205987530,
     "user": {
      "displayName": "ASAD AYUB",
      "userId": "01156840666497798230"
     },
     "user_tz": -300
    },
    "id": "dqZ9Mo1G50a9",
    "outputId": "80b29b17-7acc-4607-8596-9c49256ef2bc"
   },
   "outputs": [
    {
     "data": {
      "text/plain": [
       "tensor(0.0703)"
      ]
     },
     "execution_count": 38,
     "metadata": {},
     "output_type": "execute_result"
    }
   ],
   "source": [
    "accuracy(outputs, labels)"
   ]
  },
  {
   "cell_type": "markdown",
   "metadata": {
    "id": "uPmJk7TaGCS3"
   },
   "source": [
    "Accuracy is an excellent way for us (humans) to evaluate the model. However, we can't use it as a loss function for optimizing our model using gradient descent for the following reasons:\n",
    "\n",
    "1. It's not a differentiable function. `torch.max` and `==` are both non-continuous and non-differentiable operations, so we can't use the accuracy for computing gradients w.r.t the weights and biases.\n",
    "\n",
    "2. It doesn't take into account the actual probabilities predicted by the model, so it can't provide sufficient feedback for incremental improvements.\n",
    "\n",
    "For these reasons, accuracy is often used as an **evaluation metric** for classification, but not as a loss function. A commonly used loss function for classification problems is the **cross-entropy**, which has the following formula:\n",
    "\n",
    "![cross-entropy](https://i.imgur.com/VDRDl1D.png)\n",
    "\n",
    "While it looks complicated, it's actually quite simple:\n",
    "\n",
    "* For each output row, pick the predicted probability for the correct label. E.g., if the predicted probabilities for an image are `[0.1, 0.3, 0.2, ...]` and the correct label is `1`, we pick the corresponding element `0.3` and ignore the rest.\n",
    "\n",
    "* Then, take the [logarithm](https://en.wikipedia.org/wiki/Logarithm) of the picked probability. If the probability is high, i.e., close to 1, then its logarithm is a very small negative value, close to 0. And if the probability is low (close to 0), then the logarithm is a very large negative value. We also multiply the result by -1, which results is a large postive value of the loss for poor predictions.\n",
    "\n",
    "![](https://www.intmath.com/blog/wp-content/images/2019/05/log10.png)\n",
    "\n",
    "* Finally, take the average of the cross entropy across all the output rows to get the overall loss for a batch of data.\n",
    "\n",
    "Unlike accuracy, cross-entropy is a continuous and differentiable function. It also provides useful feedback for incremental improvements in the model (a slightly higher probability for the correct label leads to a lower loss). These two factors make cross-entropy a better choice for the loss function.\n",
    "\n",
    "As you might expect, PyTorch provides an efficient and tensor-friendly implementation of cross-entropy as part of the `torch.nn.functional` package. Moreover, it also performs softmax internally, so we can directly pass in the model's outputs without converting them into probabilities."
   ]
  },
  {
   "cell_type": "code",
   "execution_count": 39,
   "metadata": {
    "executionInfo": {
     "elapsed": 8,
     "status": "ok",
     "timestamp": 1707205987531,
     "user": {
      "displayName": "ASAD AYUB",
      "userId": "01156840666497798230"
     },
     "user_tz": -300
    },
    "id": "gE1iwxoD50dz"
   },
   "outputs": [],
   "source": [
    "loss_fn = F.cross_entropy"
   ]
  },
  {
   "cell_type": "code",
   "execution_count": 40,
   "metadata": {
    "colab": {
     "base_uri": "https://localhost:8080/"
    },
    "executionInfo": {
     "elapsed": 7,
     "status": "ok",
     "timestamp": 1707205987531,
     "user": {
      "displayName": "ASAD AYUB",
      "userId": "01156840666497798230"
     },
     "user_tz": -300
    },
    "id": "wSVky3x-50gx",
    "outputId": "6d82a64c-32b0-431f-b7e7-02125f09ef6a"
   },
   "outputs": [
    {
     "name": "stdout",
     "output_type": "stream",
     "text": [
      "tensor(2.3272, grad_fn=<NllLossBackward0>)\n"
     ]
    }
   ],
   "source": [
    "# Loss for current batch of data\n",
    "\n",
    "loss = loss_fn(outputs, labels)\n",
    "print(loss)"
   ]
  },
  {
   "cell_type": "markdown",
   "metadata": {
    "id": "Y7uEg1cMGbrq"
   },
   "source": [
    "We know that cross-entropy is the negative logarithm of the predicted probability of the correct label averaged over all training samples. Therefore, one way to interpret the resulting number e.g. `2.23` is look at `e^-2.23` which is around `0.1` as the predicted probability of the correct label, on average. *The lower the loss, The better the model.*"
   ]
  },
  {
   "cell_type": "markdown",
   "metadata": {
    "id": "3kOnxccvGftG"
   },
   "source": [
    "## Training the model\n",
    "\n",
    "Now that we have defined the data loaders, model, loss function and optimizer, we are ready to train the model. The training process is identical to linear regression, with the addition of a \"validation phase\" to evaluate the model in each epoch. Here's what it looks like in pseudocode:\n",
    "\n",
    "```\n",
    "for epoch in range(num_epochs):\n",
    "    # Training phase\n",
    "    for batch in train_loader:\n",
    "        # Generate predictions\n",
    "        # Calculate loss\n",
    "        # Compute gradients\n",
    "        # Update weights\n",
    "        # Reset gradients\n",
    "    \n",
    "    # Validation phase\n",
    "    for batch in val_loader:\n",
    "        # Generate predictions\n",
    "        # Calculate loss\n",
    "        # Calculate metrics (accuracy etc.)\n",
    "    # Calculate average validation loss & metrics\n",
    "    \n",
    "    # Log epoch, loss & metrics for inspection\n",
    "```\n",
    "\n",
    "Some parts of the training loop are specific the specific problem we're solving (e.g. loss function, metrics etc.) whereas others are generic and can be applied to any deep learning problem.\n",
    "\n",
    "We'll include the problem-independent parts within a function called `fit`, which will be used to train the model. The problem-specific parts will be implemented by adding new methods to the `nn.Module` class.\n"
   ]
  },
  {
   "cell_type": "code",
   "execution_count": 50,
   "metadata": {
    "executionInfo": {
     "elapsed": 528,
     "status": "ok",
     "timestamp": 1707208007407,
     "user": {
      "displayName": "ASAD AYUB",
      "userId": "01156840666497798230"
     },
     "user_tz": -300
    },
    "id": "wa8F6S4cGfa-"
   },
   "outputs": [],
   "source": [
    "def fit(epochs, lr, model, train_loader, val_loader, opt_func=torch.optim.SGD):\n",
    "    optimizer = opt_func(model.parameters(), lr)\n",
    "    history = [] # for recording epoch-wise results\n",
    "\n",
    "    for epoch in range(epochs):\n",
    "\n",
    "        # Training Phase\n",
    "        for batch in train_loader:\n",
    "            loss = model.training_step(batch)\n",
    "            loss.backward()\n",
    "            optimizer.step()\n",
    "            optimizer.zero_grad()\n",
    "\n",
    "        # Validation phase\n",
    "        result = evaluate(model, val_loader)\n",
    "        model.epoch_end(epoch, result)\n",
    "        history.append(result)\n",
    "\n",
    "    return history\n"
   ]
  },
  {
   "cell_type": "markdown",
   "metadata": {
    "id": "q5vOlpazGopm"
   },
   "source": [
    "The `fit` function records the validation loss and metric from each epoch. It returns a history of the training, useful for debugging & visualization.\n",
    "\n",
    "Configurations like batch size, learning rate, etc. (called hyperparameters), need to picked in advance while training machine learning models. Choosing the right hyperparameters is critical for training a reasonably accurate model within a reasonable amount of time. It is an active area of research and experimentation in machine learning. Feel free to try different learning rates and see how it affects the training process.\n",
    "\n",
    "\n",
    "Let's define the `evaluate` function, used in the validation phase of `fit`."
   ]
  },
  {
   "cell_type": "code",
   "execution_count": 51,
   "metadata": {
    "executionInfo": {
     "elapsed": 8,
     "status": "ok",
     "timestamp": 1707208020553,
     "user": {
      "displayName": "ASAD AYUB",
      "userId": "01156840666497798230"
     },
     "user_tz": -300
    },
    "id": "h9V-teq950jz"
   },
   "outputs": [],
   "source": [
    "def evaluate(model, val_loader):\n",
    "    outputs = [model.validation_step(batch) for batch in val_loader]\n",
    "    return model.validation_epoch_end(outputs)"
   ]
  },
  {
   "cell_type": "markdown",
   "metadata": {
    "id": "YlqGxh9Ycmo6"
   },
   "source": [
    "Finally, let's redefine the `MnistModel` class to include additional methods `training_step`, `validation_step`, `validation_epoch_end`, and `epoch_end` used by `fit` and `evaluate`"
   ]
  },
  {
   "cell_type": "code",
   "execution_count": 53,
   "metadata": {
    "executionInfo": {
     "elapsed": 405,
     "status": "ok",
     "timestamp": 1707208051950,
     "user": {
      "displayName": "ASAD AYUB",
      "userId": "01156840666497798230"
     },
     "user_tz": -300
    },
    "id": "XFkQJmz850mv"
   },
   "outputs": [],
   "source": [
    "class MnistModel(nn.Module):\n",
    "    def __init__(self):\n",
    "        super().__init__()\n",
    "        self.linear = nn.Linear(input_size, num_classes)\n",
    "\n",
    "    def forward(self, xb):\n",
    "        xb = xb.reshape(-1, 784)\n",
    "        out = self.linear(xb)\n",
    "        return out\n",
    "\n",
    "    def training_step(self, batch):\n",
    "        images, labels = batch\n",
    "        out = self(images)                  # Generate predictions\n",
    "        loss = F.cross_entropy(out, labels) # Calculate loss\n",
    "        return loss\n",
    "\n",
    "    def validation_step(self, batch):\n",
    "        images, labels = batch\n",
    "        out = self(images)                    # Generate predictions\n",
    "        loss = F.cross_entropy(out, labels)   # Calculate loss\n",
    "        acc = accuracy(out, labels)           # Calculate accuracy\n",
    "        return {'val_loss': loss, 'val_acc': acc}\n",
    "\n",
    "    def validation_epoch_end(self, outputs):\n",
    "        batch_losses = [x['val_loss'] for x in outputs]\n",
    "        epoch_loss = torch.stack(batch_losses).mean()   # Combine losses\n",
    "        batch_accs = [x['val_acc'] for x in outputs]\n",
    "        epoch_acc = torch.stack(batch_accs).mean()      # Combine accuracies\n",
    "        return {'val_loss': epoch_loss.item(), 'val_acc': epoch_acc.item()}\n",
    "\n",
    "    def epoch_end(self, epoch, result):\n",
    "        print(\"Epoch [{}], val_loss: {:.4f}, val_acc: {:.4f}\".format(epoch, result['val_loss'], result['val_acc']))\n",
    "\n",
    "model = MnistModel()"
   ]
  },
  {
   "cell_type": "markdown",
   "metadata": {
    "id": "CjfZtVmeg72I"
   },
   "source": [
    "Before we train the model, let's see how the model performs on the validation set with the initial set of randomly initialized weights & biases.\n"
   ]
  },
  {
   "cell_type": "code",
   "execution_count": 54,
   "metadata": {
    "colab": {
     "base_uri": "https://localhost:8080/"
    },
    "executionInfo": {
     "elapsed": 6576,
     "status": "ok",
     "timestamp": 1707208064148,
     "user": {
      "displayName": "ASAD AYUB",
      "userId": "01156840666497798230"
     },
     "user_tz": -300
    },
    "id": "ZCI67wENc0B-",
    "outputId": "46c1788e-9eed-438a-b113-b2ef3ddb9f64"
   },
   "outputs": [
    {
     "data": {
      "text/plain": [
       "{'val_loss': 2.2853446006774902, 'val_acc': 0.11540743708610535}"
      ]
     },
     "execution_count": 54,
     "metadata": {},
     "output_type": "execute_result"
    }
   ],
   "source": [
    "result0 = evaluate(model, val_loader)\n",
    "result0"
   ]
  },
  {
   "cell_type": "markdown",
   "metadata": {
    "id": "6mfseOG0iI_1"
   },
   "source": [
    "The initial accuracy is around 11%, which one might expect from a randomly initialized model (since it has a 1 in 10 chance of getting a label right by guessing randomly).\n",
    "\n",
    "We are now ready to train the model. Let's train for five epochs and look at the results."
   ]
  },
  {
   "cell_type": "code",
   "execution_count": 55,
   "metadata": {
    "colab": {
     "base_uri": "https://localhost:8080/"
    },
    "executionInfo": {
     "elapsed": 47372,
     "status": "ok",
     "timestamp": 1707208225400,
     "user": {
      "displayName": "ASAD AYUB",
      "userId": "01156840666497798230"
     },
     "user_tz": -300
    },
    "id": "xX78hjBr50pc",
    "outputId": "8807801a-2591-48c8-82f2-4072178b58f5"
   },
   "outputs": [
    {
     "name": "stdout",
     "output_type": "stream",
     "text": [
      "Epoch [0], val_loss: 1.9304, val_acc: 0.6294\n",
      "Epoch [1], val_loss: 1.6662, val_acc: 0.7223\n",
      "Epoch [2], val_loss: 1.4695, val_acc: 0.7540\n",
      "Epoch [3], val_loss: 1.3212, val_acc: 0.7725\n",
      "Epoch [4], val_loss: 1.2071, val_acc: 0.7846\n"
     ]
    }
   ],
   "source": [
    "histroy1 = fit(5, 0.001, model, train_loader, val_loader)"
   ]
  },
  {
   "cell_type": "code",
   "execution_count": 56,
   "metadata": {
    "colab": {
     "base_uri": "https://localhost:8080/"
    },
    "executionInfo": {
     "elapsed": 58078,
     "status": "ok",
     "timestamp": 1707208284606,
     "user": {
      "displayName": "ASAD AYUB",
      "userId": "01156840666497798230"
     },
     "user_tz": -300
    },
    "id": "S1RBcLSv50sQ",
    "outputId": "9b85ae5c-e925-4cf3-c437-9c40168be180"
   },
   "outputs": [
    {
     "name": "stdout",
     "output_type": "stream",
     "text": [
      "Epoch [0], val_loss: 1.1172, val_acc: 0.7966\n",
      "Epoch [1], val_loss: 1.0450, val_acc: 0.8058\n",
      "Epoch [2], val_loss: 0.9859, val_acc: 0.8138\n",
      "Epoch [3], val_loss: 0.9366, val_acc: 0.8204\n",
      "Epoch [4], val_loss: 0.8949, val_acc: 0.8246\n"
     ]
    }
   ],
   "source": [
    "histroy2 = fit(5, 0.001, model, train_loader, val_loader)"
   ]
  },
  {
   "cell_type": "code",
   "execution_count": 57,
   "metadata": {
    "colab": {
     "base_uri": "https://localhost:8080/"
    },
    "executionInfo": {
     "elapsed": 53016,
     "status": "ok",
     "timestamp": 1707208337617,
     "user": {
      "displayName": "ASAD AYUB",
      "userId": "01156840666497798230"
     },
     "user_tz": -300
    },
    "id": "Amw-icDw50vw",
    "outputId": "9c6478b2-d3f4-4e8c-d084-382b750b970e"
   },
   "outputs": [
    {
     "name": "stdout",
     "output_type": "stream",
     "text": [
      "Epoch [0], val_loss: 0.8591, val_acc: 0.8282\n",
      "Epoch [1], val_loss: 0.8280, val_acc: 0.8320\n",
      "Epoch [2], val_loss: 0.8008, val_acc: 0.8356\n",
      "Epoch [3], val_loss: 0.7768, val_acc: 0.8377\n",
      "Epoch [4], val_loss: 0.7554, val_acc: 0.8398\n"
     ]
    }
   ],
   "source": [
    "histroy3 = fit(5, 0.001, model, train_loader, val_loader)"
   ]
  },
  {
   "cell_type": "code",
   "execution_count": 58,
   "metadata": {
    "colab": {
     "base_uri": "https://localhost:8080/"
    },
    "executionInfo": {
     "elapsed": 47661,
     "status": "ok",
     "timestamp": 1707208385252,
     "user": {
      "displayName": "ASAD AYUB",
      "userId": "01156840666497798230"
     },
     "user_tz": -300
    },
    "id": "sdXnJ1YNifzV",
    "outputId": "3659dd32-b0d8-4814-a7c5-b6fe50755efe"
   },
   "outputs": [
    {
     "name": "stdout",
     "output_type": "stream",
     "text": [
      "Epoch [0], val_loss: 0.7362, val_acc: 0.8421\n",
      "Epoch [1], val_loss: 0.7189, val_acc: 0.8440\n",
      "Epoch [2], val_loss: 0.7032, val_acc: 0.8461\n",
      "Epoch [3], val_loss: 0.6888, val_acc: 0.8474\n",
      "Epoch [4], val_loss: 0.6757, val_acc: 0.8487\n"
     ]
    }
   ],
   "source": [
    "histroy4 = fit(5, 0.001, model, train_loader, val_loader)"
   ]
  },
  {
   "cell_type": "code",
   "execution_count": 60,
   "metadata": {
    "colab": {
     "base_uri": "https://localhost:8080/"
    },
    "executionInfo": {
     "elapsed": 87375,
     "status": "ok",
     "timestamp": 1707208522012,
     "user": {
      "displayName": "ASAD AYUB",
      "userId": "01156840666497798230"
     },
     "user_tz": -300
    },
    "id": "8YXENL6mjQtY",
    "outputId": "bafc1a20-abcf-45a5-abb3-9f6ee90a381a"
   },
   "outputs": [
    {
     "name": "stdout",
     "output_type": "stream",
     "text": [
      "Epoch [0], val_loss: 0.6577, val_acc: 0.8511\n",
      "Epoch [1], val_loss: 0.6470, val_acc: 0.8525\n",
      "Epoch [2], val_loss: 0.6370, val_acc: 0.8532\n",
      "Epoch [3], val_loss: 0.6277, val_acc: 0.8543\n",
      "Epoch [4], val_loss: 0.6190, val_acc: 0.8551\n",
      "Epoch [5], val_loss: 0.6109, val_acc: 0.8564\n",
      "Epoch [6], val_loss: 0.6033, val_acc: 0.8572\n",
      "Epoch [7], val_loss: 0.5961, val_acc: 0.8575\n"
     ]
    }
   ],
   "source": [
    "histroy5 = fit(8, 0.001, model, train_loader, val_loader)"
   ]
  },
  {
   "cell_type": "markdown",
   "metadata": {
    "id": "nVzBQWABijPI"
   },
   "source": [
    "While the accuracy does continue to increase as we train for more epochs, the improvements get smaller with every epoch. Let's visualize this using a line graph."
   ]
  },
  {
   "cell_type": "code",
   "execution_count": 63,
   "metadata": {
    "colab": {
     "base_uri": "https://localhost:8080/",
     "height": 472
    },
    "executionInfo": {
     "elapsed": 925,
     "status": "ok",
     "timestamp": 1707208630423,
     "user": {
      "displayName": "ASAD AYUB",
      "userId": "01156840666497798230"
     },
     "user_tz": -300
    },
    "id": "noq0tkTjijvd",
    "outputId": "2826191d-3345-49ef-bc42-162ef31bc0cd"
   },
   "outputs": [
    {
     "data": {
      "image/png": "[encoded data removed]",
      "text/plain": [
       "<Figure size 640x480 with 1 Axes>"
      ]
     },
     "metadata": {},
     "output_type": "display_data"
    }
   ],
   "source": [
    "history = [result0] + histroy1 + histroy2 + histroy3 + histroy4 +histroy5\n",
    "accuracies = [result['val_acc'] for result in history]\n",
    "plt.plot(accuracies, '-x')\n",
    "plt.xlabel('epoch')\n",
    "plt.ylabel('accuracy')\n",
    "plt.title('Accuracy vs No.of epochs');\n"
   ]
  },
  {
   "cell_type": "markdown",
   "metadata": {
    "id": "FFesoQn6kJbW"
   },
   "source": [
    "It's quite clear from the above picture that the model probably won't cross the accuracy threshold of 90% even after training for a very long time. One possible reason for this is that the learning rate might be too high. The model's parameters may be \"bouncing\" around the optimal set of parameters for the lowest loss. You can try reducing the learning rate and training for a few more epochs to see if it helps.\n",
    "\n",
    "The more likely reason that **the model just isn't powerful enough**. If you remember our initial hypothesis, we have assumed that the output (in this case the class probabilities) is a **linear function** of the input (pixel intensities), obtained by perfoming a matrix multiplication with the weights matrix and adding the bias. This is a fairly weak assumption, as there may not actually exist a linear relationship between the pixel intensities in an image and the digit it represents. While it works reasonably well for a simple dataset like MNIST (getting us to 85% accuracy), we need more sophisticated models that can capture non-linear relationships between image pixels and labels for complex tasks like recognizing everyday objects, animals etc.\n",
    "\n",
    "Let's save our work using `jovian.commit`. Along with the notebook, we can also record some metrics from our training."
   ]
  },
  {
   "cell_type": "markdown",
   "metadata": {
    "id": "cFgRd47nkMSz"
   },
   "source": [
    "## Testing with individual images"
   ]
  },
  {
   "cell_type": "markdown",
   "metadata": {
    "id": "TBlyNdSGkOUE"
   },
   "source": [
    "While we have been tracking the overall accuracy of a model so far, it's also a good idea to look at model's results on some sample images. Let's test out our model with some images from the predefined test dataset of 10000 images. We begin by recreating the test dataset with the `ToTensor` transform."
   ]
  },
  {
   "cell_type": "code",
   "execution_count": 67,
   "metadata": {
    "executionInfo": {
     "elapsed": 8,
     "status": "ok",
     "timestamp": 1707208856428,
     "user": {
      "displayName": "ASAD AYUB",
      "userId": "01156840666497798230"
     },
     "user_tz": -300
    },
    "id": "wdpSA9BEju-V"
   },
   "outputs": [],
   "source": [
    "# Define test dataset\n",
    "\n",
    "test_dataset = MNIST(root ='data/',train= False,\n",
    "                     transform=transforms.ToTensor())"
   ]
  },
  {
   "cell_type": "markdown",
   "metadata": {
    "id": "gKHGgG4uk_Qs"
   },
   "source": [
    "Here's a sample image from the dataset."
   ]
  },
  {
   "cell_type": "code",
   "execution_count": 68,
   "metadata": {
    "colab": {
     "base_uri": "https://localhost:8080/",
     "height": 466
    },
    "executionInfo": {
     "elapsed": 729,
     "status": "ok",
     "timestamp": 1707208957811,
     "user": {
      "displayName": "ASAD AYUB",
      "userId": "01156840666497798230"
     },
     "user_tz": -300
    },
    "id": "bR3Wje0kkoR5",
    "outputId": "cd85ba69-729b-47ca-ced9-09cbf6aa5a83"
   },
   "outputs": [
    {
     "name": "stdout",
     "output_type": "stream",
     "text": [
      "Shape: torch.Size([1, 28, 28])\n",
      "Label:  7\n"
     ]
    },
    {
     "data": {
      "image/png": "[encoded data removed]",
      "text/plain": [
       "<Figure size 640x480 with 1 Axes>"
      ]
     },
     "metadata": {},
     "output_type": "display_data"
    }
   ],
   "source": [
    "img, label = test_dataset[0]\n",
    "plt.imshow(img[0], cmap= 'gray')\n",
    "print('Shape:', img.shape)\n",
    "print('Label: ', label)"
   ]
  },
  {
   "cell_type": "markdown",
   "metadata": {
    "id": "zXmyYfojlXvO"
   },
   "source": [
    "Let's define a helper function `predict_image`, which returns the predicted label for a single image tensor."
   ]
  },
  {
   "cell_type": "code",
   "execution_count": 69,
   "metadata": {
    "executionInfo": {
     "elapsed": 512,
     "status": "ok",
     "timestamp": 1707209058144,
     "user": {
      "displayName": "ASAD AYUB",
      "userId": "01156840666497798230"
     },
     "user_tz": -300
    },
    "id": "-IHhc3EylVcx"
   },
   "outputs": [],
   "source": [
    "def predict_image(img, model):\n",
    "  xb = img.unsqueeze(0)\n",
    "  yb = model(xb)\n",
    "  _, preds = torch.max(yb, dim=1)\n",
    "  return preds[0].item()"
   ]
  },
  {
   "cell_type": "markdown",
   "metadata": {
    "id": "9qth6FAXlxDX"
   },
   "source": [
    "`img.unsqueeze` simply adds another dimension at the begining of the 1x28x28 tensor, making it a 1x1x28x28 tensor, which the model views as a batch containing a single image.\n",
    "\n",
    "Let's try it out with a few images."
   ]
  },
  {
   "cell_type": "code",
   "execution_count": 70,
   "metadata": {
    "colab": {
     "base_uri": "https://localhost:8080/",
     "height": 448
    },
    "executionInfo": {
     "elapsed": 25,
     "status": "ok",
     "timestamp": 1707209206146,
     "user": {
      "displayName": "ASAD AYUB",
      "userId": "01156840666497798230"
     },
     "user_tz": -300
    },
    "id": "MPurQb0fluAA",
    "outputId": "d63cc645-f6ff-45ae-8e0d-1290663db6c8"
   },
   "outputs": [
    {
     "name": "stdout",
     "output_type": "stream",
     "text": [
      "Label:  7 Predicted:  7\n"
     ]
    },
    {
     "data": {
      "image/png": "[encoded data removed]",
      "text/plain": [
       "<Figure size 640x480 with 1 Axes>"
      ]
     },
     "metadata": {},
     "output_type": "display_data"
    }
   ],
   "source": [
    "img, label = test_dataset[0]\n",
    "plt.imshow(img[0], cmap= 'gray')\n",
    "\n",
    "print('Label: ', label, 'Predicted: ', predict_image(img, model))"
   ]
  },
  {
   "cell_type": "code",
   "execution_count": 72,
   "metadata": {
    "colab": {
     "base_uri": "https://localhost:8080/",
     "height": 448
    },
    "executionInfo": {
     "elapsed": 19,
     "status": "ok",
     "timestamp": 1707209248849,
     "user": {
      "displayName": "ASAD AYUB",
      "userId": "01156840666497798230"
     },
     "user_tz": -300
    },
    "id": "SLsnud3-mSNW",
    "outputId": "7e380c70-c719-481a-b595-97815c23b5eb"
   },
   "outputs": [
    {
     "name": "stdout",
     "output_type": "stream",
     "text": [
      "Label:  0 Predicted:  0\n"
     ]
    },
    {
     "data": {
      "image/png": "[encoded data removed]",
      "text/plain": [
       "<Figure size 640x480 with 1 Axes>"
      ]
     },
     "metadata": {},
     "output_type": "display_data"
    }
   ],
   "source": [
    "img, label = test_dataset[10]\n",
    "plt.imshow(img[0], cmap= 'gray')\n",
    "print('Label: ', label, 'Predicted: ', predict_image(img, model))"
   ]
  },
  {
   "cell_type": "code",
   "execution_count": 73,
   "metadata": {
    "colab": {
     "base_uri": "https://localhost:8080/",
     "height": 448
    },
    "executionInfo": {
     "elapsed": 9,
     "status": "ok",
     "timestamp": 1707209269972,
     "user": {
      "displayName": "ASAD AYUB",
      "userId": "01156840666497798230"
     },
     "user_tz": -300
    },
    "id": "WOZJxZllmZuc",
    "outputId": "8a739347-9a1b-4039-b7bd-830546132d1f"
   },
   "outputs": [
    {
     "name": "stdout",
     "output_type": "stream",
     "text": [
      "Label:  4 Predicted:  4\n"
     ]
    },
    {
     "data": {
      "image/png": "[encoded data removed]",
      "text/plain": [
       "<Figure size 640x480 with 1 Axes>"
      ]
     },
     "metadata": {},
     "output_type": "display_data"
    }
   ],
   "source": [
    "img, label = test_dataset[109]\n",
    "plt.imshow(img[0], cmap= 'gray')\n",
    "print('Label: ', label, 'Predicted: ', predict_image(img, model))"
   ]
  },
  {
   "cell_type": "code",
   "execution_count": 74,
   "metadata": {
    "colab": {
     "base_uri": "https://localhost:8080/",
     "height": 448
    },
    "executionInfo": {
     "elapsed": 17,
     "status": "ok",
     "timestamp": 1707209285990,
     "user": {
      "displayName": "ASAD AYUB",
      "userId": "01156840666497798230"
     },
     "user_tz": -300
    },
    "id": "572eJnbpmh7Z",
    "outputId": "1d6eb23e-0078-410a-9301-20ccbf252697"
   },
   "outputs": [
    {
     "name": "stdout",
     "output_type": "stream",
     "text": [
      "Label:  9 Predicted:  4\n"
     ]
    },
    {
     "data": {
      "image/png": "[encoded data removed]",
      "text/plain": [
       "<Figure size 640x480 with 1 Axes>"
      ]
     },
     "metadata": {},
     "output_type": "display_data"
    }
   ],
   "source": [
    "img, label = test_dataset[193]\n",
    "plt.imshow(img[0], cmap= 'gray')\n",
    "print('Label: ', label, 'Predicted: ', predict_image(img, model))"
   ]
  },
  {
   "cell_type": "code",
   "execution_count": 76,
   "metadata": {
    "colab": {
     "base_uri": "https://localhost:8080/",
     "height": 448
    },
    "executionInfo": {
     "elapsed": 920,
     "status": "ok",
     "timestamp": 1707209314367,
     "user": {
      "displayName": "ASAD AYUB",
      "userId": "01156840666497798230"
     },
     "user_tz": -300
    },
    "id": "LTCisAvImluv",
    "outputId": "dcc3c7a9-144f-42aa-9939-283b47c5d408"
   },
   "outputs": [
    {
     "name": "stdout",
     "output_type": "stream",
     "text": [
      "Label:  0 Predicted:  0\n"
     ]
    },
    {
     "data": {
      "image/png": "[encoded data removed]",
      "text/plain": [
       "<Figure size 640x480 with 1 Axes>"
      ]
     },
     "metadata": {},
     "output_type": "display_data"
    }
   ],
   "source": [
    "img, label = test_dataset[192]\n",
    "plt.imshow(img[0], cmap= 'gray')\n",
    "print('Label: ', label, 'Predicted: ', predict_image(img, model))"
   ]
  },
  {
   "cell_type": "code",
   "execution_count": 77,
   "metadata": {
    "colab": {
     "base_uri": "https://localhost:8080/",
     "height": 448
    },
    "executionInfo": {
     "elapsed": 17,
     "status": "ok",
     "timestamp": 1707209328723,
     "user": {
      "displayName": "ASAD AYUB",
      "userId": "01156840666497798230"
     },
     "user_tz": -300
    },
    "id": "Z3jnneDRmp_V",
    "outputId": "fdf2b813-477b-4256-8a64-ee0b6e92b978"
   },
   "outputs": [
    {
     "name": "stdout",
     "output_type": "stream",
     "text": [
      "Label:  0 Predicted:  0\n"
     ]
    },
    {
     "data": {
      "image/png": "[encoded data removed]",
      "text/plain": [
       "<Figure size 640x480 with 1 Axes>"
      ]
     },
     "metadata": {},
     "output_type": "display_data"
    }
   ],
   "source": [
    "img, label = test_dataset[194]\n",
    "plt.imshow(img[0], cmap= 'gray')\n",
    "print('Label: ', label, 'Predicted: ', predict_image(img, model))"
   ]
  },
  {
   "cell_type": "code",
   "execution_count": 78,
   "metadata": {
    "colab": {
     "base_uri": "https://localhost:8080/",
     "height": 448
    },
    "executionInfo": {
     "elapsed": 854,
     "status": "ok",
     "timestamp": 1707209339540,
     "user": {
      "displayName": "ASAD AYUB",
      "userId": "01156840666497798230"
     },
     "user_tz": -300
    },
    "id": "-Iu1HqL1mwJc",
    "outputId": "3c3a7756-2032-4936-e37f-6e772742ff73"
   },
   "outputs": [
    {
     "name": "stdout",
     "output_type": "stream",
     "text": [
      "Label: 2 , Predicted: 8\n"
     ]
    },
    {
     "data": {
      "image/png": "[encoded data removed]",
      "text/plain": [
       "<Figure size 640x480 with 1 Axes>"
      ]
     },
     "metadata": {},
     "output_type": "display_data"
    }
   ],
   "source": [
    "img, label = test_dataset[1839]\n",
    "plt.imshow(img[0], cmap='gray')\n",
    "print('Label:', label, ', Predicted:', predict_image(img, model))"
   ]
  },
  {
   "cell_type": "markdown",
   "metadata": {
    "id": "MQftSiDRm1eH"
   },
   "source": [
    "Identifying where our model performs poorly can help us improve the model, by collecting more training data, increasing/decreasing the complexity of the model, and changing the hypeparameters.\n",
    "\n",
    "As a final step, let's also look at the overall loss and accuracy of the model on the test set."
   ]
  },
  {
   "cell_type": "code",
   "execution_count": 79,
   "metadata": {
    "colab": {
     "base_uri": "https://localhost:8080/"
    },
    "executionInfo": {
     "elapsed": 828,
     "status": "ok",
     "timestamp": 1707209518853,
     "user": {
      "displayName": "ASAD AYUB",
      "userId": "01156840666497798230"
     },
     "user_tz": -300
    },
    "id": "RYaPtx1umywI",
    "outputId": "da15de74-8c53-4d93-f2d8-2694e6ed8e70"
   },
   "outputs": [
    {
     "data": {
      "text/plain": [
       "{'val_loss': 0.5605495572090149, 'val_acc': 0.8711913824081421}"
      ]
     },
     "execution_count": 79,
     "metadata": {},
     "output_type": "execute_result"
    }
   ],
   "source": [
    "test_loader = DataLoader(test_dataset, batch_size = 256)\n",
    "result = evaluate(model, test_loader)\n",
    "result"
   ]
  },
  {
   "cell_type": "markdown",
   "metadata": {
    "id": "VBAKuTwfm4kx"
   },
   "source": [
    "We expect this to be similar to the accuracy/loss on the validation set. If not, we might need a better validation set that has similar data and distribution as the test set (which often comes from real world data)."
   ]
  },
  {
   "cell_type": "markdown",
   "metadata": {
    "id": "cwZnbYUZnjw0"
   },
   "source": [
    "## Saving and loading the model"
   ]
  },
  {
   "cell_type": "markdown",
   "metadata": {
    "id": "JLlLc6ZSnk6q"
   },
   "source": [
    "Since we've trained our model for a long time and achieved a resonable accuracy, it would be a good idea to save the weights and bias matrices to disk, so that we can reuse the model later and avoid retraining from scratch. Here's how you can save the model."
   ]
  },
  {
   "cell_type": "code",
   "execution_count": 80,
   "metadata": {
    "executionInfo": {
     "elapsed": 395,
     "status": "ok",
     "timestamp": 1707209557976,
     "user": {
      "displayName": "ASAD AYUB",
      "userId": "01156840666497798230"
     },
     "user_tz": -300
    },
    "id": "VXEAfZCzm4_8"
   },
   "outputs": [],
   "source": [
    "torch.save(model.state_dict(), 'mnist-logistic.pth')"
   ]
  },
  {
   "cell_type": "markdown",
   "metadata": {
    "id": "LQnm3ic0nq3B"
   },
   "source": [
    "The `.state_dict` method returns an `OrderedDict` containing all the weights and bias matrices mapped to the right attributes of the model."
   ]
  },
  {
   "cell_type": "code",
   "execution_count": 81,
   "metadata": {
    "colab": {
     "base_uri": "https://localhost:8080/"
    },
    "executionInfo": {
     "elapsed": 481,
     "status": "ok",
     "timestamp": 1707209581927,
     "user": {
      "displayName": "ASAD AYUB",
      "userId": "01156840666497798230"
     },
     "user_tz": -300
    },
    "id": "3eNxe0MknoPw",
    "outputId": "f22a2b04-7782-4692-d06f-65728a303a95"
   },
   "outputs": [
    {
     "data": {
      "text/plain": [
       "OrderedDict([('linear.weight',\n",
       "              tensor([[ 0.0207,  0.0275,  0.0034,  ...,  0.0077, -0.0104,  0.0235],\n",
       "                      [ 0.0062, -0.0057,  0.0207,  ...,  0.0005,  0.0255,  0.0329],\n",
       "                      [-0.0111,  0.0125, -0.0272,  ..., -0.0294, -0.0042, -0.0166],\n",
       "                      ...,\n",
       "                      [-0.0035, -0.0185, -0.0236,  ...,  0.0297, -0.0208,  0.0140],\n",
       "                      [-0.0247,  0.0150, -0.0111,  ..., -0.0273, -0.0206, -0.0349],\n",
       "                      [ 0.0301,  0.0008, -0.0255,  ...,  0.0107,  0.0227,  0.0106]])),\n",
       "             ('linear.bias',\n",
       "              tensor([-0.0367,  0.0948,  0.0010, -0.0465,  0.0555,  0.0372,  0.0131,  0.0192,\n",
       "                      -0.1159, -0.0377]))])"
      ]
     },
     "execution_count": 81,
     "metadata": {},
     "output_type": "execute_result"
    }
   ],
   "source": [
    "model.state_dict()"
   ]
  },
  {
   "cell_type": "markdown",
   "metadata": {
    "id": "6rXXwr1tnva1"
   },
   "source": [
    "To load the model weights, we can instante a new object of the class `MnistModel`, and use the `.load_state_dict` method."
   ]
  },
  {
   "cell_type": "code",
   "execution_count": 82,
   "metadata": {
    "executionInfo": {
     "elapsed": 4,
     "status": "ok",
     "timestamp": 1707209595037,
     "user": {
      "displayName": "ASAD AYUB",
      "userId": "01156840666497798230"
     },
     "user_tz": -300
    },
    "id": "Qh_HInDQnuAM"
   },
   "outputs": [],
   "source": [
    "model2 = MnistModel()"
   ]
  },
  {
   "cell_type": "code",
   "execution_count": 83,
   "metadata": {
    "colab": {
     "base_uri": "https://localhost:8080/"
    },
    "executionInfo": {
     "elapsed": 5,
     "status": "ok",
     "timestamp": 1707209599420,
     "user": {
      "displayName": "ASAD AYUB",
      "userId": "01156840666497798230"
     },
     "user_tz": -300
    },
    "id": "B6o3jFDEnxQ_",
    "outputId": "c153d6ab-2273-42e6-95b5-5a847b994e06"
   },
   "outputs": [
    {
     "data": {
      "text/plain": [
       "OrderedDict([('linear.weight',\n",
       "              tensor([[ 0.0134, -0.0217,  0.0338,  ..., -0.0186,  0.0349, -0.0092],\n",
       "                      [ 0.0320,  0.0320, -0.0036,  ..., -0.0074, -0.0248,  0.0248],\n",
       "                      [-0.0259,  0.0330,  0.0165,  ..., -0.0335, -0.0071,  0.0012],\n",
       "                      ...,\n",
       "                      [ 0.0142,  0.0038, -0.0018,  ...,  0.0040,  0.0035,  0.0299],\n",
       "                      [-0.0120,  0.0319,  0.0286,  ...,  0.0277,  0.0194, -0.0051],\n",
       "                      [-0.0126, -0.0284, -0.0216,  ...,  0.0210,  0.0019,  0.0156]])),\n",
       "             ('linear.bias',\n",
       "              tensor([ 0.0155,  0.0214,  0.0277, -0.0253,  0.0259,  0.0346,  0.0326,  0.0069,\n",
       "                       0.0259,  0.0183]))])"
      ]
     },
     "execution_count": 83,
     "metadata": {},
     "output_type": "execute_result"
    }
   ],
   "source": [
    "model2.state_dict()"
   ]
  },
  {
   "cell_type": "code",
   "execution_count": 84,
   "metadata": {
    "colab": {
     "base_uri": "https://localhost:8080/"
    },
    "executionInfo": {
     "elapsed": 1938,
     "status": "ok",
     "timestamp": 1707209611250,
     "user": {
      "displayName": "ASAD AYUB",
      "userId": "01156840666497798230"
     },
     "user_tz": -300
    },
    "id": "5Le86g2TnyYY",
    "outputId": "fea20caf-e339-4c09-ee57-2953716c7dce"
   },
   "outputs": [
    {
     "data": {
      "text/plain": [
       "{'val_loss': 2.3082480430603027, 'val_acc': 0.09492187201976776}"
      ]
     },
     "execution_count": 84,
     "metadata": {},
     "output_type": "execute_result"
    }
   ],
   "source": [
    "evaluate(model2, test_loader)"
   ]
  },
  {
   "cell_type": "code",
   "execution_count": 85,
   "metadata": {
    "colab": {
     "base_uri": "https://localhost:8080/"
    },
    "executionInfo": {
     "elapsed": 12,
     "status": "ok",
     "timestamp": 1707209621082,
     "user": {
      "displayName": "ASAD AYUB",
      "userId": "01156840666497798230"
     },
     "user_tz": -300
    },
    "id": "UczTFeGPn01P",
    "outputId": "b43807cb-e8ed-4a76-91fd-a5b1675b40e5"
   },
   "outputs": [
    {
     "data": {
      "text/plain": [
       "OrderedDict([('linear.weight',\n",
       "              tensor([[ 0.0207,  0.0275,  0.0034,  ...,  0.0077, -0.0104,  0.0235],\n",
       "                      [ 0.0062, -0.0057,  0.0207,  ...,  0.0005,  0.0255,  0.0329],\n",
       "                      [-0.0111,  0.0125, -0.0272,  ..., -0.0294, -0.0042, -0.0166],\n",
       "                      ...,\n",
       "                      [-0.0035, -0.0185, -0.0236,  ...,  0.0297, -0.0208,  0.0140],\n",
       "                      [-0.0247,  0.0150, -0.0111,  ..., -0.0273, -0.0206, -0.0349],\n",
       "                      [ 0.0301,  0.0008, -0.0255,  ...,  0.0107,  0.0227,  0.0106]])),\n",
       "             ('linear.bias',\n",
       "              tensor([-0.0367,  0.0948,  0.0010, -0.0465,  0.0555,  0.0372,  0.0131,  0.0192,\n",
       "                      -0.1159, -0.0377]))])"
      ]
     },
     "execution_count": 85,
     "metadata": {},
     "output_type": "execute_result"
    }
   ],
   "source": [
    "model2.load_state_dict(torch.load('mnist-logistic.pth'))\n",
    "model2.state_dict()"
   ]
  },
  {
   "cell_type": "markdown",
   "metadata": {
    "id": "8eabKJZun5fU"
   },
   "source": [
    "Just as a sanity check, let's verify that this model has the same loss and accuracy on the test set as before."
   ]
  },
  {
   "cell_type": "code",
   "execution_count": 86,
   "metadata": {
    "colab": {
     "base_uri": "https://localhost:8080/"
    },
    "executionInfo": {
     "elapsed": 2378,
     "status": "ok",
     "timestamp": 1707209638264,
     "user": {
      "displayName": "ASAD AYUB",
      "userId": "01156840666497798230"
     },
     "user_tz": -300
    },
    "id": "j0WwJ9BCn3ll",
    "outputId": "9818687d-1c59-48e4-96f6-d1a07b908281"
   },
   "outputs": [
    {
     "data": {
      "text/plain": [
       "{'val_loss': 0.5605495572090149, 'val_acc': 0.8711913824081421}"
      ]
     },
     "execution_count": 86,
     "metadata": {},
     "output_type": "execute_result"
    }
   ],
   "source": [
    "test_loader = DataLoader(test_dataset, batch_size=256)\n",
    "result = evaluate(model2, test_loader)\n",
    "result"
   ]
  },
  {
   "cell_type": "code",
   "execution_count": null,
   "metadata": {
    "id": "k2GkGuuTn7TS"
   },
   "outputs": [],
   "source": []
  }
 ],
 "metadata": {
  "colab": {
   "authorship_tag": "ABX9TyNZLMvqLiJdCTcNhWuw77Ch",
   "provenance": []
  },
  "kernelspec": {
   "display_name": "Python 3 (ipykernel)",
   "language": "python",
   "name": "python3"
  },
  "language_info": {
   "codemirror_mode": {
    "name": "ipython",
    "version": 3
   },
   "file_extension": ".py",
   "mimetype": "text/x-python",
   "name": "python",
   "nbconvert_exporter": "python",
   "pygments_lexer": "ipython3",
   "version": "3.11.5"
  }
 },
 "nbformat": 4,
 "nbformat_minor": 1
}
